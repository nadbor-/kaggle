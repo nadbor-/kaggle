{
 "cells": [
  {
   "cell_type": "code",
   "execution_count": 55,
   "metadata": {
    "collapsed": true
   },
   "outputs": [],
   "source": [
    "%%bash\n",
    "screen -d -m -S krowa /bin/bash -c \"python run.py --data_dir fixed_data/ --cache_dir cache_fixed_data/ --log_path log_fixed_data.log 2> errorfile.txt\""
   ]
  },
  {
   "cell_type": "code",
   "execution_count": 56,
   "metadata": {
    "collapsed": false
   },
   "outputs": [
    {
     "name": "stdout",
     "output_type": "stream",
     "text": [
      "There are screens on:\r\n",
      "\t32349.krowa\t(04/21/2016 08:47:08 PM)\t(Detached)\n",
      "\t1674.ipython\t(04/19/2016 09:21:48 PM)\t(Detached)\n",
      "2 Sockets in /var/run/screen/S-ubuntu.\n",
      "\r\n"
     ]
    }
   ],
   "source": [
    "%%bash\n",
    "screen -ls"
   ]
  },
  {
   "cell_type": "code",
   "execution_count": 211,
   "metadata": {
    "collapsed": true
   },
   "outputs": [],
   "source": [
    "#%%bash\n",
    "#screen -d -m -S krowa /bin/bash -c \"python run.py 2> errorfile.txt\""
   ]
  },
  {
   "cell_type": "code",
   "execution_count": 212,
   "metadata": {
    "collapsed": false
   },
   "outputs": [
    {
     "name": "stdout",
     "output_type": "stream",
     "text": [
      "There are screens on:\r\n",
      "\t23222.krowa\t(04/06/2016 10:55:02 PM)\t(Detached)\n",
      "\t23198.krowa\t(04/06/2016 10:50:59 PM)\t(Detached)\n",
      "\t1442.ipython\t(03/30/2016 09:47:16 PM)\t(Detached)\n",
      "3 Sockets in /var/run/screen/S-ubuntu.\n",
      "\r\n"
     ]
    }
   ],
   "source": [
    "%%bash\n",
    "screen -ls"
   ]
  },
  {
   "cell_type": "code",
   "execution_count": 41,
   "metadata": {
    "collapsed": false
   },
   "outputs": [],
   "source": [
    "%%bash\n",
    "screen -X -S 23965 quit"
   ]
  },
  {
   "cell_type": "code",
   "execution_count": null,
   "metadata": {
    "collapsed": false
   },
   "outputs": [],
   "source": [
    "%%bash\n",
    "cat errorfile.txt"
   ]
  },
  {
   "cell_type": "code",
   "execution_count": null,
   "metadata": {
    "collapsed": true
   },
   "outputs": [],
   "source": [
    "import sys\n"
   ]
  },
  {
   "cell_type": "code",
   "execution_count": null,
   "metadata": {
    "collapsed": false
   },
   "outputs": [],
   "source": [
    "sys.argv"
   ]
  },
  {
   "cell_type": "code",
   "execution_count": 11,
   "metadata": {
    "collapsed": false
   },
   "outputs": [],
   "source": [
    "%%bash\n",
    "python fix_data.py"
   ]
  },
  {
   "cell_type": "code",
   "execution_count": 261,
   "metadata": {
    "collapsed": false
   },
   "outputs": [
    {
     "data": {
      "text/plain": [
       "'a   b c'"
      ]
     },
     "execution_count": 261,
     "metadata": {},
     "output_type": "execute_result"
    }
   ],
   "source": [
    "\" \".join(['a', '', '', 'b', 'c'])"
   ]
  },
  {
   "cell_type": "code",
   "execution_count": null,
   "metadata": {
    "collapsed": true
   },
   "outputs": [],
   "source": []
  }
 ],
 "metadata": {
  "kernelspec": {
   "display_name": "Python 2",
   "language": "python",
   "name": "python2"
  },
  "language_info": {
   "codemirror_mode": {
    "name": "ipython",
    "version": 2
   },
   "file_extension": ".py",
   "mimetype": "text/x-python",
   "name": "python",
   "nbconvert_exporter": "python",
   "pygments_lexer": "ipython2",
   "version": "2.7.6"
  }
 },
 "nbformat": 4,
 "nbformat_minor": 0
}
