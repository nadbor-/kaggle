{
 "metadata": {
  "name": "",
  "signature": "sha256:e1aaa09aeb924dfcf4b9f7ef4f88d3d58f614e4e6c86d84e1aa78666eab29eb3"
 },
 "nbformat": 3,
 "nbformat_minor": 0,
 "worksheets": [
  {
   "cells": [
    {
     "cell_type": "code",
     "collapsed": false,
     "input": [
      "\"\"\"\n",
      "This tutorial introduces logistic regression using Theano and stochastic\n",
      "gradient descent.\n",
      "\n",
      "Logistic regression is a probabilistic, linear classifier. It is parametrized\n",
      "by a weight matrix :math:`W` and a bias vector :math:`b`. Classification is\n",
      "done by projecting data points onto a set of hyperplanes, the distance to\n",
      "which is used to determine a class membership probability.\n",
      "\n",
      "Mathematically, this can be written as:\n",
      "\n",
      ".. math::\n",
      "  P(Y=i|x, W,b) &= softmax_i(W x + b) \\\\\n",
      "                &= \\frac {e^{W_i x + b_i}} {\\sum_j e^{W_j x + b_j}}\n",
      "\n",
      "\n",
      "The output of the model or prediction is then done by taking the argmax of\n",
      "the vector whose i'th element is P(Y=i|x).\n",
      "\n",
      ".. math::\n",
      "\n",
      "  y_{pred} = argmax_i P(Y=i|x,W,b)\n",
      "\n",
      "\n",
      "This tutorial presents a stochastic gradient descent optimization method\n",
      "suitable for large datasets.\n",
      "\n",
      "\n",
      "References:\n",
      "\n",
      "    - textbooks: \"Pattern Recognition and Machine Learning\" -\n",
      "                 Christopher M. Bishop, section 4.3.2\n",
      "\n",
      "\"\"\"\n",
      "__docformat__ = 'restructedtext en'\n",
      "\n",
      "import cPickle\n",
      "import gzip\n",
      "import os\n",
      "import sys\n",
      "import time\n",
      "\n",
      "import numpy\n",
      "\n",
      "import theano\n",
      "import theano.tensor as T\n",
      "\n"
     ],
     "language": "python",
     "metadata": {},
     "outputs": [],
     "prompt_number": 1
    },
    {
     "cell_type": "code",
     "collapsed": false,
     "input": [
      "class LogisticRegression(object):\n",
      "    \"\"\"Multi-class Logistic Regression Class\n",
      "\n",
      "    The logistic regression is fully described by a weight matrix :math:`W`\n",
      "    and bias vector :math:`b`. Classification is done by projecting data\n",
      "    points onto a set of hyperplanes, the distance to which is used to\n",
      "    determine a class membership probability.\n",
      "    \"\"\"\n",
      "\n",
      "    def __init__(self, input, n_in, n_out):\n",
      "        \"\"\" Initialize the parameters of the logistic regression\n",
      "\n",
      "        :type input: theano.tensor.TensorType\n",
      "        :param input: symbolic variable that describes the input of the\n",
      "                      architecture (one minibatch)\n",
      "\n",
      "        :type n_in: int\n",
      "        :param n_in: number of input units, the dimension of the space in\n",
      "                     which the datapoints lie\n",
      "\n",
      "        :type n_out: int\n",
      "        :param n_out: number of output units, the dimension of the space in\n",
      "                      which the labels lie\n",
      "\n",
      "        \"\"\"\n",
      "        # start-snippet-1\n",
      "        # initialize with 0 the weights W as a matrix of shape (n_in, n_out)\n",
      "        self.W = theano.shared(\n",
      "            value=numpy.zeros(\n",
      "                (n_in, n_out),\n",
      "                dtype=theano.config.floatX\n",
      "            ),\n",
      "            name='W',\n",
      "            borrow=True\n",
      "        )\n",
      "        # initialize the baises b as a vector of n_out 0s\n",
      "        self.b = theano.shared(\n",
      "            value=numpy.zeros(\n",
      "                (n_out,),\n",
      "                dtype=theano.config.floatX\n",
      "            ),\n",
      "            name='b',\n",
      "            borrow=True\n",
      "        )\n",
      "\n",
      "        # symbolic expression for computing the matrix of class-membership\n",
      "        # probabilities\n",
      "        # Where:\n",
      "        # W is a matrix where column-k represent the separation hyper plain for\n",
      "        # class-k\n",
      "        # x is a matrix where row-j  represents input training sample-j\n",
      "        # b is a vector where element-k represent the free parameter of hyper\n",
      "        # plain-k\n",
      "        self.p_y_given_x = T.nnet.softmax(T.dot(input, self.W) + self.b)\n",
      "\n",
      "        # symbolic description of how to compute prediction as class whose\n",
      "        # probability is maximal\n",
      "        self.y_pred = T.argmax(self.p_y_given_x, axis=1)\n",
      "        # end-snippet-1\n",
      "\n",
      "        # parameters of the model\n",
      "        self.params = [self.W, self.b]\n",
      "\n",
      "    def negative_log_likelihood(self, y):\n",
      "        \"\"\"Return the mean of the negative log-likelihood of the prediction\n",
      "        of this model under a given target distribution.\n",
      "\n",
      "        .. math::\n",
      "\n",
      "            \\frac{1}{|\\mathcal{D}|} \\mathcal{L} (\\theta=\\{W,b\\}, \\mathcal{D}) =\n",
      "            \\frac{1}{|\\mathcal{D}|} \\sum_{i=0}^{|\\mathcal{D}|}\n",
      "                \\log(P(Y=y^{(i)}|x^{(i)}, W,b)) \\\\\n",
      "            \\ell (\\theta=\\{W,b\\}, \\mathcal{D})\n",
      "\n",
      "        :type y: theano.tensor.TensorType\n",
      "        :param y: corresponds to a vector that gives for each example the\n",
      "                  correct label\n",
      "\n",
      "        Note: we use the mean instead of the sum so that\n",
      "              the learning rate is less dependent on the batch size\n",
      "        \"\"\"\n",
      "        # start-snippet-2\n",
      "        # y.shape[0] is (symbolically) the number of rows in y, i.e.,\n",
      "        # number of examples (call it n) in the minibatch\n",
      "        # T.arange(y.shape[0]) is a symbolic vector which will contain\n",
      "        # [0,1,2,... n-1] T.log(self.p_y_given_x) is a matrix of\n",
      "        # Log-Probabilities (call it LP) with one row per example and\n",
      "        # one column per class LP[T.arange(y.shape[0]),y] is a vector\n",
      "        # v containing [LP[0,y[0]], LP[1,y[1]], LP[2,y[2]], ...,\n",
      "        # LP[n-1,y[n-1]]] and T.mean(LP[T.arange(y.shape[0]),y]) is\n",
      "        # the mean (across minibatch examples) of the elements in v,\n",
      "        # i.e., the mean log-likelihood across the minibatch.\n",
      "        return -T.mean(T.log(self.p_y_given_x)[T.arange(y.shape[0]), y])\n",
      "        # end-snippet-2\n",
      "\n",
      "    def errors(self, y):\n",
      "        \"\"\"Return a float representing the number of errors in the minibatch\n",
      "        over the total number of examples of the minibatch ; zero one\n",
      "        loss over the size of the minibatch\n",
      "\n",
      "        :type y: theano.tensor.TensorType\n",
      "        :param y: corresponds to a vector that gives for each example the\n",
      "                  correct label\n",
      "        \"\"\"\n",
      "\n",
      "        # check if y has same dimension of y_pred\n",
      "        if y.ndim != self.y_pred.ndim:\n",
      "            raise TypeError(\n",
      "                'y should have the same shape as self.y_pred',\n",
      "                ('y', y.type, 'y_pred', self.y_pred.type)\n",
      "            )\n",
      "        # check if y is of the correct datatype\n",
      "        if y.dtype.startswith('int'):\n",
      "            # the T.neq operator returns a vector of 0s and 1s, where 1\n",
      "            # represents a mistake in prediction\n",
      "            return T.mean(T.neq(self.y_pred, y))\n",
      "        else:\n",
      "            raise NotImplementedError()\n",
      "\n",
      "\n",
      "def load_data(dataset):\n",
      "    ''' Loads the dataset\n",
      "\n",
      "    :type dataset: string\n",
      "    :param dataset: the path to the dataset (here MNIST)\n",
      "    '''\n",
      "\n",
      "    #############\n",
      "    # LOAD DATA #\n",
      "    #############\n",
      "\n",
      "    # Download the MNIST dataset if it is not present\n",
      "    data_dir, data_file = os.path.split(dataset)\n",
      "    if data_dir == \"\" and not os.path.isfile(dataset):\n",
      "        # Check if dataset is in the data directory.\n",
      "        new_path = os.path.join(\n",
      "            os.path.split(__file__)[0],\n",
      "            \"..\",\n",
      "            \"data\",\n",
      "            dataset\n",
      "        )\n",
      "        if os.path.isfile(new_path) or data_file == 'mnist.pkl.gz':\n",
      "            dataset = new_path\n",
      "\n",
      "    if (not os.path.isfile(dataset)) and data_file == 'mnist.pkl.gz':\n",
      "        import urllib\n",
      "        origin = (\n",
      "            'http://www.iro.umontreal.ca/~lisa/deep/data/mnist/mnist.pkl.gz'\n",
      "        )\n",
      "        print 'Downloading data from %s' % origin\n",
      "        urllib.urlretrieve(origin, dataset)\n",
      "\n",
      "    print '... loading data'\n",
      "\n",
      "    # Load the dataset\n",
      "    f = gzip.open(dataset, 'rb')\n",
      "    train_set, valid_set, test_set = cPickle.load(f)\n",
      "    f.close()\n",
      "    #train_set, valid_set, test_set format: tuple(input, target)\n",
      "    #input is an numpy.ndarray of 2 dimensions (a matrix)\n",
      "    #witch row's correspond to an example. target is a\n",
      "    #numpy.ndarray of 1 dimensions (vector)) that have the same length as\n",
      "    #the number of rows in the input. It should give the target\n",
      "    #target to the example with the same index in the input.\n",
      "\n",
      "    def shared_dataset(data_xy, borrow=True):\n",
      "        \"\"\" Function that loads the dataset into shared variables\n",
      "\n",
      "        The reason we store our dataset in shared variables is to allow\n",
      "        Theano to copy it into the GPU memory (when code is run on GPU).\n",
      "        Since copying data into the GPU is slow, copying a minibatch everytime\n",
      "        is needed (the default behaviour if the data is not in a shared\n",
      "        variable) would lead to a large decrease in performance.\n",
      "        \"\"\"\n",
      "        data_x, data_y = data_xy\n",
      "        shared_x = theano.shared(numpy.asarray(data_x,\n",
      "                                               dtype=theano.config.floatX),\n",
      "                                 borrow=borrow)\n",
      "        shared_y = theano.shared(numpy.asarray(data_y,\n",
      "                                               dtype=theano.config.floatX),\n",
      "                                 borrow=borrow)\n",
      "        # When storing data on the GPU it has to be stored as floats\n",
      "        # therefore we will store the labels as ``floatX`` as well\n",
      "        # (``shared_y`` does exactly that). But during our computations\n",
      "        # we need them as ints (we use labels as index, and if they are\n",
      "        # floats it doesn't make sense) therefore instead of returning\n",
      "        # ``shared_y`` we will have to cast it to int. This little hack\n",
      "        # lets ous get around this issue\n",
      "        return shared_x, T.cast(shared_y, 'int32')\n",
      "\n",
      "    test_set_x, test_set_y = shared_dataset(test_set)\n",
      "    valid_set_x, valid_set_y = shared_dataset(valid_set)\n",
      "    train_set_x, train_set_y = shared_dataset(train_set)\n",
      "\n",
      "    rval = [(train_set_x, train_set_y), (valid_set_x, valid_set_y),\n",
      "            (test_set_x, test_set_y)]\n",
      "    return rval\n",
      "\n",
      "\n",
      "def sgd_optimization_mnist(learning_rate=0.13, n_epochs=1000,\n",
      "                           dataset='mnist.pkl.gz',\n",
      "                           batch_size=600):\n",
      "    \"\"\"\n",
      "    Demonstrate stochastic gradient descent optimization of a log-linear\n",
      "    model\n",
      "\n",
      "    This is demonstrated on MNIST.\n",
      "\n",
      "    :type learning_rate: float\n",
      "    :param learning_rate: learning rate used (factor for the stochastic\n",
      "                          gradient)\n",
      "\n",
      "    :type n_epochs: int\n",
      "    :param n_epochs: maximal number of epochs to run the optimizer\n",
      "\n",
      "    :type dataset: string\n",
      "    :param dataset: the path of the MNIST dataset file from\n",
      "                 http://www.iro.umontreal.ca/~lisa/deep/data/mnist/mnist.pkl.gz\n",
      "\n",
      "    \"\"\"\n",
      "    datasets = load_data(dataset)\n",
      "\n",
      "    train_set_x, train_set_y = datasets[0]\n",
      "    valid_set_x, valid_set_y = datasets[1]\n",
      "    test_set_x, test_set_y = datasets[2]\n",
      "\n",
      "    # compute number of minibatches for training, validation and testing\n",
      "    n_train_batches = train_set_x.get_value(borrow=True).shape[0] / batch_size\n",
      "    n_valid_batches = valid_set_x.get_value(borrow=True).shape[0] / batch_size\n",
      "    n_test_batches = test_set_x.get_value(borrow=True).shape[0] / batch_size\n",
      "\n",
      "    ######################\n",
      "    # BUILD ACTUAL MODEL #\n",
      "    ######################\n",
      "    print '... building the model'\n",
      "\n",
      "    # allocate symbolic variables for the data\n",
      "    index = T.lscalar()  # index to a [mini]batch\n",
      "\n",
      "    # generate symbolic variables for input (x and y represent a\n",
      "    # minibatch)\n",
      "    x = T.matrix('x')  # data, presented as rasterized images\n",
      "    y = T.ivector('y')  # labels, presented as 1D vector of [int] labels\n",
      "\n",
      "    # construct the logistic regression class\n",
      "    # Each MNIST image has size 28*28\n",
      "    classifier = LogisticRegression(input=x, n_in=28 * 28, n_out=10)\n",
      "\n",
      "    # the cost we minimize during training is the negative log likelihood of\n",
      "    # the model in symbolic format\n",
      "    cost = classifier.negative_log_likelihood(y)\n",
      "\n",
      "    # compiling a Theano function that computes the mistakes that are made by\n",
      "    # the model on a minibatch\n",
      "    test_model = theano.function(\n",
      "        inputs=[index],\n",
      "        outputs=classifier.errors(y),\n",
      "        givens={\n",
      "            x: test_set_x[index * batch_size: (index + 1) * batch_size],\n",
      "            y: test_set_y[index * batch_size: (index + 1) * batch_size]\n",
      "        }\n",
      "    )\n",
      "\n",
      "    validate_model = theano.function(\n",
      "        inputs=[index],\n",
      "        outputs=classifier.errors(y),\n",
      "        givens={\n",
      "            x: valid_set_x[index * batch_size: (index + 1) * batch_size],\n",
      "            y: valid_set_y[index * batch_size: (index + 1) * batch_size]\n",
      "        }\n",
      "    )\n",
      "\n",
      "    # compute the gradient of cost with respect to theta = (W,b)\n",
      "    g_W = T.grad(cost=cost, wrt=classifier.W)\n",
      "    g_b = T.grad(cost=cost, wrt=classifier.b)\n",
      "\n",
      "    # start-snippet-3\n",
      "    # specify how to update the parameters of the model as a list of\n",
      "    # (variable, update expression) pairs.\n",
      "    updates = [(classifier.W, classifier.W - learning_rate * g_W),\n",
      "               (classifier.b, classifier.b - learning_rate * g_b)]\n",
      "\n",
      "    # compiling a Theano function `train_model` that returns the cost, but in\n",
      "    # the same time updates the parameter of the model based on the rules\n",
      "    # defined in `updates`\n",
      "    train_model = theano.function(\n",
      "        inputs=[index],\n",
      "        outputs=cost,\n",
      "        updates=updates,\n",
      "        givens={\n",
      "            x: train_set_x[index * batch_size: (index + 1) * batch_size],\n",
      "            y: train_set_y[index * batch_size: (index + 1) * batch_size]\n",
      "        }\n",
      "    )\n",
      "    # end-snippet-3\n",
      "\n",
      "    ###############\n",
      "    # TRAIN MODEL #\n",
      "    ###############\n",
      "    print '... training the model'\n",
      "    # early-stopping parameters\n",
      "    patience = 5000  # look as this many examples regardless\n",
      "    patience_increase = 2  # wait this much longer when a new best is\n",
      "                                  # found\n",
      "    improvement_threshold = 0.995  # a relative improvement of this much is\n",
      "                                  # considered significant\n",
      "    validation_frequency = min(n_train_batches, patience / 2)\n",
      "                                  # go through this many\n",
      "                                  # minibatche before checking the network\n",
      "                                  # on the validation set; in this case we\n",
      "                                  # check every epoch\n",
      "\n",
      "    best_validation_loss = numpy.inf\n",
      "    test_score = 0.\n",
      "    start_time = time.clock()\n",
      "\n",
      "    done_looping = False\n",
      "    epoch = 0\n",
      "    while (epoch < n_epochs) and (not done_looping):\n",
      "        epoch = epoch + 1\n",
      "        for minibatch_index in xrange(n_train_batches):\n",
      "\n",
      "            minibatch_avg_cost = train_model(minibatch_index)\n",
      "            # iteration number\n",
      "            iter = (epoch - 1) * n_train_batches + minibatch_index\n",
      "\n",
      "            if (iter + 1) % validation_frequency == 0:\n",
      "                # compute zero-one loss on validation set\n",
      "                validation_losses = [validate_model(i)\n",
      "                                     for i in xrange(n_valid_batches)]\n",
      "                this_validation_loss = numpy.mean(validation_losses)\n",
      "\n",
      "                print(\n",
      "                    'epoch %i, minibatch %i/%i, validation error %f %%' %\n",
      "                    (\n",
      "                        epoch,\n",
      "                        minibatch_index + 1,\n",
      "                        n_train_batches,\n",
      "                        this_validation_loss * 100.\n",
      "                    )\n",
      "                )\n",
      "\n",
      "                # if we got the best validation score until now\n",
      "                if this_validation_loss < best_validation_loss:\n",
      "                    #improve patience if loss improvement is good enough\n",
      "                    if this_validation_loss < best_validation_loss *  \\\n",
      "                       improvement_threshold:\n",
      "                        patience = max(patience, iter * patience_increase)\n",
      "\n",
      "                    best_validation_loss = this_validation_loss\n",
      "                    # test it on the test set\n",
      "\n",
      "                    test_losses = [test_model(i)\n",
      "                                   for i in xrange(n_test_batches)]\n",
      "                    test_score = numpy.mean(test_losses)\n",
      "\n",
      "                    print(\n",
      "                        (\n",
      "                            '     epoch %i, minibatch %i/%i, test error of'\n",
      "                            ' best model %f %%'\n",
      "                        ) %\n",
      "                        (\n",
      "                            epoch,\n",
      "                            minibatch_index + 1,\n",
      "                            n_train_batches,\n",
      "                            test_score * 100.\n",
      "                        )\n",
      "                    )\n",
      "\n",
      "            if patience <= iter:\n",
      "                done_looping = True\n",
      "                break\n",
      "\n",
      "    end_time = time.clock()\n",
      "    print(\n",
      "        (\n",
      "            'Optimization complete with best validation score of %f %%,'\n",
      "            'with test performance %f %%'\n",
      "        )\n",
      "        % (best_validation_loss * 100., test_score * 100.)\n",
      "    )\n",
      "    print 'The code run for %d epochs, with %f epochs/sec' % (\n",
      "        epoch, 1. * epoch / (end_time - start_time))\n",
      "    print >> sys.stderr, ('The code for file ' +\n",
      "                         \"theano_proby\" +\n",
      "                          ' ran for %.1fs' % ((end_time - start_time)))\n",
      "\n"
     ],
     "language": "python",
     "metadata": {},
     "outputs": [],
     "prompt_number": 6
    },
    {
     "cell_type": "code",
     "collapsed": false,
     "input": [
      "sgd_optimization_mnist()"
     ],
     "language": "python",
     "metadata": {},
     "outputs": [
      {
       "output_type": "stream",
       "stream": "stdout",
       "text": [
        "... loading data\n",
        "... building the model"
       ]
      },
      {
       "output_type": "stream",
       "stream": "stdout",
       "text": [
        "\n",
        "... training the model"
       ]
      },
      {
       "output_type": "stream",
       "stream": "stdout",
       "text": [
        "\n",
        "epoch 1, minibatch 83/83, validation error 12.458333 %"
       ]
      },
      {
       "output_type": "stream",
       "stream": "stdout",
       "text": [
        "\n",
        "     epoch 1, minibatch 83/83, test error of best model 12.375000 %\n",
        "epoch 2, minibatch 83/83, validation error 11.010417 %"
       ]
      },
      {
       "output_type": "stream",
       "stream": "stdout",
       "text": [
        "\n",
        "     epoch 2, minibatch 83/83, test error of best model 10.958333 %\n",
        "epoch 3, minibatch 83/83, validation error 10.312500 %"
       ]
      },
      {
       "output_type": "stream",
       "stream": "stdout",
       "text": [
        "\n",
        "     epoch 3, minibatch 83/83, test error of best model 10.312500 %\n",
        "epoch 4, minibatch 83/83, validation error 9.875000 %"
       ]
      },
      {
       "output_type": "stream",
       "stream": "stdout",
       "text": [
        "\n",
        "     epoch 4, minibatch 83/83, test error of best model 9.833333 %\n",
        "epoch 5, minibatch 83/83, validation error 9.562500 %"
       ]
      },
      {
       "output_type": "stream",
       "stream": "stdout",
       "text": [
        "\n",
        "     epoch 5, minibatch 83/83, test error of best model 9.479167 %\n",
        "epoch 6, minibatch 83/83, validation error 9.322917 %"
       ]
      },
      {
       "output_type": "stream",
       "stream": "stdout",
       "text": [
        "\n",
        "     epoch 6, minibatch 83/83, test error of best model 9.291667 %\n",
        "epoch 7, minibatch 83/83, validation error 9.187500 %"
       ]
      },
      {
       "output_type": "stream",
       "stream": "stdout",
       "text": [
        "\n",
        "     epoch 7, minibatch 83/83, test error of best model 9.000000 %\n",
        "epoch 8, minibatch 83/83, validation error 8.989583 %"
       ]
      },
      {
       "output_type": "stream",
       "stream": "stdout",
       "text": [
        "\n",
        "     epoch 8, minibatch 83/83, test error of best model 8.958333 %\n",
        "epoch 9, minibatch 83/83, validation error 8.937500 %"
       ]
      },
      {
       "output_type": "stream",
       "stream": "stdout",
       "text": [
        "\n",
        "     epoch 9, minibatch 83/83, test error of best model 8.812500 %\n",
        "epoch 10, minibatch 83/83, validation error 8.750000 %"
       ]
      },
      {
       "output_type": "stream",
       "stream": "stdout",
       "text": [
        "\n",
        "     epoch 10, minibatch 83/83, test error of best model 8.666667 %\n",
        "epoch 11, minibatch 83/83, validation error 8.666667 %"
       ]
      },
      {
       "output_type": "stream",
       "stream": "stdout",
       "text": [
        "\n",
        "     epoch 11, minibatch 83/83, test error of best model 8.520833 %\n",
        "epoch 12, minibatch 83/83, validation error 8.583333 %"
       ]
      },
      {
       "output_type": "stream",
       "stream": "stdout",
       "text": [
        "\n",
        "     epoch 12, minibatch 83/83, test error of best model 8.416667 %\n",
        "epoch 13, minibatch 83/83, validation error 8.489583 %"
       ]
      },
      {
       "output_type": "stream",
       "stream": "stdout",
       "text": [
        "\n",
        "     epoch 13, minibatch 83/83, test error of best model 8.291667 %\n",
        "epoch 14, minibatch 83/83, validation error 8.427083 %"
       ]
      },
      {
       "output_type": "stream",
       "stream": "stdout",
       "text": [
        "\n",
        "     epoch 14, minibatch 83/83, test error of best model 8.281250 %\n",
        "epoch 15, minibatch 83/83, validation error 8.354167 %"
       ]
      },
      {
       "output_type": "stream",
       "stream": "stdout",
       "text": [
        "\n",
        "     epoch 15, minibatch 83/83, test error of best model 8.270833 %\n",
        "epoch 16, minibatch 83/83, validation error 8.302083 %"
       ]
      },
      {
       "output_type": "stream",
       "stream": "stdout",
       "text": [
        "\n",
        "     epoch 16, minibatch 83/83, test error of best model 8.239583 %\n",
        "epoch 17, minibatch 83/83, validation error 8.250000 %"
       ]
      },
      {
       "output_type": "stream",
       "stream": "stdout",
       "text": [
        "\n",
        "     epoch 17, minibatch 83/83, test error of best model 8.177083 %\n",
        "epoch 18, minibatch 83/83, validation error 8.229167 %"
       ]
      },
      {
       "output_type": "stream",
       "stream": "stdout",
       "text": [
        "\n",
        "     epoch 18, minibatch 83/83, test error of best model 8.062500 %\n",
        "epoch 19, minibatch 83/83, validation error 8.260417 %"
       ]
      },
      {
       "output_type": "stream",
       "stream": "stdout",
       "text": [
        "\n",
        "epoch 20, minibatch 83/83, validation error 8.260417 %"
       ]
      },
      {
       "output_type": "stream",
       "stream": "stdout",
       "text": [
        "\n",
        "epoch 21, minibatch 83/83, validation error 8.208333 %"
       ]
      },
      {
       "output_type": "stream",
       "stream": "stdout",
       "text": [
        "\n",
        "     epoch 21, minibatch 83/83, test error of best model 7.947917 %\n",
        "epoch 22, minibatch 83/83, validation error 8.187500 %"
       ]
      },
      {
       "output_type": "stream",
       "stream": "stdout",
       "text": [
        "\n",
        "     epoch 22, minibatch 83/83, test error of best model 7.927083 %\n",
        "epoch 23, minibatch 83/83, validation error 8.156250 %"
       ]
      },
      {
       "output_type": "stream",
       "stream": "stdout",
       "text": [
        "\n",
        "     epoch 23, minibatch 83/83, test error of best model 7.958333 %\n",
        "epoch 24, minibatch 83/83, validation error 8.114583 %"
       ]
      },
      {
       "output_type": "stream",
       "stream": "stdout",
       "text": [
        "\n",
        "     epoch 24, minibatch 83/83, test error of best model 7.947917 %\n",
        "epoch 25, minibatch 83/83, validation error 8.093750 %"
       ]
      },
      {
       "output_type": "stream",
       "stream": "stdout",
       "text": [
        "\n",
        "     epoch 25, minibatch 83/83, test error of best model 7.947917 %\n",
        "epoch 26, minibatch 83/83, validation error 8.104167 %"
       ]
      },
      {
       "output_type": "stream",
       "stream": "stdout",
       "text": [
        "\n",
        "epoch 27, minibatch 83/83, validation error 8.104167 %"
       ]
      },
      {
       "output_type": "stream",
       "stream": "stdout",
       "text": [
        "\n",
        "epoch 28, minibatch 83/83, validation error 8.052083 %"
       ]
      },
      {
       "output_type": "stream",
       "stream": "stdout",
       "text": [
        "\n",
        "     epoch 28, minibatch 83/83, test error of best model 7.843750 %\n",
        "epoch 29, minibatch 83/83, validation error 8.052083 %"
       ]
      },
      {
       "output_type": "stream",
       "stream": "stdout",
       "text": [
        "\n",
        "epoch 30, minibatch 83/83, validation error 8.031250 %"
       ]
      },
      {
       "output_type": "stream",
       "stream": "stdout",
       "text": [
        "\n",
        "     epoch 30, minibatch 83/83, test error of best model 7.843750 %\n",
        "epoch 31, minibatch 83/83, validation error 8.010417 %"
       ]
      },
      {
       "output_type": "stream",
       "stream": "stdout",
       "text": [
        "\n",
        "     epoch 31, minibatch 83/83, test error of best model 7.833333 %\n",
        "epoch 32, minibatch 83/83, validation error 7.979167 %"
       ]
      },
      {
       "output_type": "stream",
       "stream": "stdout",
       "text": [
        "\n",
        "     epoch 32, minibatch 83/83, test error of best model 7.812500 %\n",
        "epoch 33, minibatch 83/83, validation error 7.947917 %"
       ]
      },
      {
       "output_type": "stream",
       "stream": "stdout",
       "text": [
        "\n",
        "     epoch 33, minibatch 83/83, test error of best model 7.739583 %\n",
        "epoch 34, minibatch 83/83, validation error 7.875000 %"
       ]
      },
      {
       "output_type": "stream",
       "stream": "stdout",
       "text": [
        "\n",
        "     epoch 34, minibatch 83/83, test error of best model 7.729167 %\n",
        "epoch 35, minibatch 83/83, validation error 7.885417 %"
       ]
      },
      {
       "output_type": "stream",
       "stream": "stdout",
       "text": [
        "\n",
        "epoch 36, minibatch 83/83, validation error 7.843750 %"
       ]
      },
      {
       "output_type": "stream",
       "stream": "stdout",
       "text": [
        "\n",
        "     epoch 36, minibatch 83/83, test error of best model 7.697917 %\n",
        "epoch 37, minibatch 83/83, validation error 7.802083 %"
       ]
      },
      {
       "output_type": "stream",
       "stream": "stdout",
       "text": [
        "\n",
        "     epoch 37, minibatch 83/83, test error of best model 7.635417 %\n",
        "epoch 38, minibatch 83/83, validation error 7.812500 %"
       ]
      },
      {
       "output_type": "stream",
       "stream": "stdout",
       "text": [
        "\n",
        "epoch 39, minibatch 83/83, validation error 7.812500 %"
       ]
      },
      {
       "output_type": "stream",
       "stream": "stdout",
       "text": [
        "\n",
        "epoch 40, minibatch 83/83, validation error 7.822917 %"
       ]
      },
      {
       "output_type": "stream",
       "stream": "stdout",
       "text": [
        "\n",
        "epoch 41, minibatch 83/83, validation error 7.791667 %"
       ]
      },
      {
       "output_type": "stream",
       "stream": "stdout",
       "text": [
        "\n",
        "     epoch 41, minibatch 83/83, test error of best model 7.625000 %\n",
        "epoch 42, minibatch 83/83, validation error 7.770833 %"
       ]
      },
      {
       "output_type": "stream",
       "stream": "stdout",
       "text": [
        "\n",
        "     epoch 42, minibatch 83/83, test error of best model 7.614583 %\n",
        "epoch 43, minibatch 83/83, validation error 7.750000 %"
       ]
      },
      {
       "output_type": "stream",
       "stream": "stdout",
       "text": [
        "\n",
        "     epoch 43, minibatch 83/83, test error of best model 7.593750 %\n",
        "epoch 44, minibatch 83/83, validation error 7.739583 %"
       ]
      },
      {
       "output_type": "stream",
       "stream": "stdout",
       "text": [
        "\n",
        "     epoch 44, minibatch 83/83, test error of best model 7.593750 %\n",
        "epoch 45, minibatch 83/83, validation error 7.739583 %"
       ]
      },
      {
       "output_type": "stream",
       "stream": "stdout",
       "text": [
        "\n",
        "epoch 46, minibatch 83/83, validation error 7.739583 %"
       ]
      },
      {
       "output_type": "stream",
       "stream": "stdout",
       "text": [
        "\n",
        "epoch 47, minibatch 83/83, validation error 7.739583 %"
       ]
      },
      {
       "output_type": "stream",
       "stream": "stdout",
       "text": [
        "\n",
        "epoch 48, minibatch 83/83, validation error 7.708333 %"
       ]
      },
      {
       "output_type": "stream",
       "stream": "stdout",
       "text": [
        "\n",
        "     epoch 48, minibatch 83/83, test error of best model 7.583333 %\n",
        "epoch 49, minibatch 83/83, validation error 7.677083 %"
       ]
      },
      {
       "output_type": "stream",
       "stream": "stdout",
       "text": [
        "\n",
        "     epoch 49, minibatch 83/83, test error of best model 7.572917 %\n",
        "epoch 50, minibatch 83/83, validation error 7.677083 %"
       ]
      },
      {
       "output_type": "stream",
       "stream": "stdout",
       "text": [
        "\n",
        "epoch 51, minibatch 83/83, validation error 7.677083 %"
       ]
      },
      {
       "output_type": "stream",
       "stream": "stdout",
       "text": [
        "\n",
        "epoch 52, minibatch 83/83, validation error 7.656250 %"
       ]
      },
      {
       "output_type": "stream",
       "stream": "stdout",
       "text": [
        "\n",
        "     epoch 52, minibatch 83/83, test error of best model 7.541667 %\n",
        "epoch 53, minibatch 83/83, validation error 7.656250 %"
       ]
      },
      {
       "output_type": "stream",
       "stream": "stdout",
       "text": [
        "\n",
        "epoch 54, minibatch 83/83, validation error 7.635417 %"
       ]
      },
      {
       "output_type": "stream",
       "stream": "stdout",
       "text": [
        "\n",
        "     epoch 54, minibatch 83/83, test error of best model 7.520833 %\n",
        "epoch 55, minibatch 83/83, validation error 7.635417 %"
       ]
      },
      {
       "output_type": "stream",
       "stream": "stdout",
       "text": [
        "\n",
        "epoch 56, minibatch 83/83, validation error 7.635417 %"
       ]
      },
      {
       "output_type": "stream",
       "stream": "stdout",
       "text": [
        "\n",
        "epoch 57, minibatch 83/83, validation error 7.604167 %"
       ]
      },
      {
       "output_type": "stream",
       "stream": "stdout",
       "text": [
        "\n",
        "     epoch 57, minibatch 83/83, test error of best model 7.489583 %\n",
        "epoch 58, minibatch 83/83, validation error 7.583333 %"
       ]
      },
      {
       "output_type": "stream",
       "stream": "stdout",
       "text": [
        "\n",
        "     epoch 58, minibatch 83/83, test error of best model 7.458333 %\n",
        "epoch 59, minibatch 83/83, validation error 7.572917 %"
       ]
      },
      {
       "output_type": "stream",
       "stream": "stdout",
       "text": [
        "\n",
        "     epoch 59, minibatch 83/83, test error of best model 7.468750 %\n",
        "epoch 60, minibatch 83/83, validation error 7.572917 %"
       ]
      },
      {
       "output_type": "stream",
       "stream": "stdout",
       "text": [
        "\n",
        "epoch 61, minibatch 83/83, validation error 7.583333 %"
       ]
      },
      {
       "output_type": "stream",
       "stream": "stdout",
       "text": [
        "\n",
        "epoch 62, minibatch 83/83, validation error 7.572917 %"
       ]
      },
      {
       "output_type": "stream",
       "stream": "stdout",
       "text": [
        "\n",
        "     epoch 62, minibatch 83/83, test error of best model 7.520833 %\n",
        "epoch 63, minibatch 83/83, validation error 7.562500 %"
       ]
      },
      {
       "output_type": "stream",
       "stream": "stdout",
       "text": [
        "\n",
        "     epoch 63, minibatch 83/83, test error of best model 7.510417 %\n",
        "epoch 64, minibatch 83/83, validation error 7.572917 %"
       ]
      },
      {
       "output_type": "stream",
       "stream": "stdout",
       "text": [
        "\n",
        "epoch 65, minibatch 83/83, validation error 7.562500 %"
       ]
      },
      {
       "output_type": "stream",
       "stream": "stdout",
       "text": [
        "\n",
        "epoch 66, minibatch 83/83, validation error 7.552083 %"
       ]
      },
      {
       "output_type": "stream",
       "stream": "stdout",
       "text": [
        "\n",
        "     epoch 66, minibatch 83/83, test error of best model 7.520833 %\n",
        "epoch 67, minibatch 83/83, validation error 7.552083 %"
       ]
      },
      {
       "output_type": "stream",
       "stream": "stdout",
       "text": [
        "\n",
        "epoch 68, minibatch 83/83, validation error 7.531250 %"
       ]
      },
      {
       "output_type": "stream",
       "stream": "stdout",
       "text": [
        "\n",
        "     epoch 68, minibatch 83/83, test error of best model 7.520833 %\n",
        "epoch 69, minibatch 83/83, validation error 7.531250 %"
       ]
      },
      {
       "output_type": "stream",
       "stream": "stdout",
       "text": [
        "\n",
        "epoch 70, minibatch 83/83, validation error 7.510417 %"
       ]
      },
      {
       "output_type": "stream",
       "stream": "stdout",
       "text": [
        "\n",
        "     epoch 70, minibatch 83/83, test error of best model 7.500000 %\n",
        "epoch 71, minibatch 83/83, validation error 7.520833 %"
       ]
      },
      {
       "output_type": "stream",
       "stream": "stdout",
       "text": [
        "\n",
        "epoch 72, minibatch 83/83, validation error 7.510417 %"
       ]
      },
      {
       "output_type": "stream",
       "stream": "stdout",
       "text": [
        "\n",
        "epoch 73, minibatch 83/83, validation error 7.500000 %"
       ]
      },
      {
       "output_type": "stream",
       "stream": "stdout",
       "text": [
        "\n",
        "     epoch 73, minibatch 83/83, test error of best model 7.489583 %\n",
        "Optimization complete with best validation score of 7.500000 %,with test performance 7.489583 %"
       ]
      },
      {
       "output_type": "stream",
       "stream": "stdout",
       "text": [
        "\n",
        "The code run for 74 epochs, with 6.686274 epochs/sec\n"
       ]
      },
      {
       "output_type": "stream",
       "stream": "stderr",
       "text": [
        "The code for file theano_proby ran for 11.1s\n"
       ]
      }
     ],
     "prompt_number": 7
    },
    {
     "cell_type": "code",
     "collapsed": false,
     "input": [
      "datasets_ = load_data('mnist.pkl.gz')\n",
      "train_set_x_, train_set_y_ = datasets_[0]\n",
      "valid_set_x_, valid_set_y_ = datasets_[1]\n",
      "test_set_x_, test_set_y_ = datasets_[2]"
     ],
     "language": "python",
     "metadata": {},
     "outputs": [
      {
       "output_type": "stream",
       "stream": "stdout",
       "text": [
        "... loading data\n"
       ]
      }
     ],
     "prompt_number": 8
    },
    {
     "cell_type": "code",
     "collapsed": false,
     "input": [
      "krowa = train_set_x_.get_value()"
     ],
     "language": "python",
     "metadata": {},
     "outputs": [],
     "prompt_number": 14
    },
    {
     "cell_type": "code",
     "collapsed": false,
     "input": [
      "krowa.shape"
     ],
     "language": "python",
     "metadata": {},
     "outputs": [
      {
       "metadata": {},
       "output_type": "pyout",
       "prompt_number": 16,
       "text": [
        "(50000L, 784L)"
       ]
      }
     ],
     "prompt_number": 16
    },
    {
     "cell_type": "code",
     "collapsed": false,
     "input": [],
     "language": "python",
     "metadata": {},
     "outputs": []
    }
   ],
   "metadata": {}
  }
 ]
}