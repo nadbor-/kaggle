{
 "metadata": {
  "name": "",
  "signature": "sha256:7e248cf325419f4c8b22a9d0d545b8152bd81a59bc987db599babb621df4fddb"
 },
 "nbformat": 3,
 "nbformat_minor": 0,
 "worksheets": [
  {
   "cells": [
    {
     "cell_type": "code",
     "collapsed": false,
     "input": [],
     "language": "python",
     "metadata": {},
     "outputs": []
    }
   ],
   "metadata": {}
  }
 ]
}