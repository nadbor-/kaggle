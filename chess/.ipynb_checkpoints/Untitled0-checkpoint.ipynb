{
 "metadata": {
  "name": "",
  "signature": "sha256:7ec22d9f550b2767bff940c643641c6558fae1b63fb4ad29ca8fc1c373285cbf"
 },
 "nbformat": 3,
 "nbformat_minor": 0,
 "worksheets": []
}