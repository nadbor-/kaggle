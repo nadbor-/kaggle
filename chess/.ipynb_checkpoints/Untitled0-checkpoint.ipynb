{
 "metadata": {
  "name": "",
  "signature": "sha256:69b8691929363c658f536ffe0748439789594bff88c0969aeecd3ed8296699ce"
 },
 "nbformat": 3,
 "nbformat_minor": 0,
 "worksheets": [
  {
   "cells": [
    {
     "cell_type": "code",
     "collapsed": false,
     "input": [
      "import cPickle\n",
      "import chess.pgn\n",
      "import pandas as pd\n",
      "import numpy as np\n",
      "from sklearn.ensemble import AdaBoostRegressor, RandomForestRegressor\n",
      "from sklearn.dummy import DummyRegressor\n",
      "from sklearn.linear_model import LinearRegression\n",
      "from sklearn.tree import DecisionTreeRegressor\n",
      "from sklearn.cross_validation import KFold\n",
      "\n",
      "from functools import wraps\n",
      "\n",
      "def memo(func):\n",
      "    cache = {}\n",
      "    @wraps(func)\n",
      "    def wrap(*args):\n",
      "        if args not in cache:\n",
      "            cache[args] = func(*args)\n",
      "        return cache[args]\n",
      "    return wrap\n",
      "\n"
     ],
     "language": "python",
     "metadata": {},
     "outputs": [],
     "prompt_number": 118
    },
    {
     "cell_type": "code",
     "collapsed": false,
     "input": [
      "def print_game(game_and_scores):\n",
      "    game, scores = game_and_scores\n",
      "    nodes = [game]\n",
      "    while nodes[-1].variations:\n",
      "        nodes.append(nodes[-1].variation(0))\n",
      "    for i in range(len(nodes)):\n",
      "        print nodes[i].board()\n",
      "        try:\n",
      "            print scores[i]\n",
      "        except:\n",
      "            print \"nomo\""
     ],
     "language": "python",
     "metadata": {},
     "outputs": [],
     "prompt_number": 49
    },
    {
     "cell_type": "code",
     "collapsed": false,
     "input": [
      "train_len = 25000\n",
      "train_games = []\n",
      "test_games = []\n",
      "\n",
      "with open(\"data.pgn\", \"rb\") as gamesfile:\n",
      "    for i in range(train_len):\n",
      "        train_games.append(chess.pgn.read_game(gamesfile))\n",
      "    for i in range(train_len):\n",
      "        test_games.append(chess.pgn.read_game(gamesfile))\n",
      "        \n",
      "sf_scores = [[float(s) if s != \"NA\" else float(\"nan\") for s in ms.split()] \n",
      "             for ms in pd.read_csv(\"stockfish.csv\").MoveScores]"
     ],
     "language": "python",
     "metadata": {},
     "outputs": [],
     "prompt_number": 109
    },
    {
     "cell_type": "code",
     "collapsed": false,
     "input": [],
     "language": "python",
     "metadata": {},
     "outputs": [
      {
       "ename": "RuntimeError",
       "evalue": "maximum recursion depth exceeded",
       "output_type": "pyerr",
       "traceback": [
        "\u001b[1;31m---------------------------------------------------------------------------\u001b[0m\n\u001b[1;31mRuntimeError\u001b[0m                              Traceback (most recent call last)",
        "\u001b[1;32m<ipython-input-127-723aa01b72a7>\u001b[0m in \u001b[0;36m<module>\u001b[1;34m()\u001b[0m\n\u001b[0;32m      1\u001b[0m \u001b[1;32mwith\u001b[0m \u001b[0mopen\u001b[0m\u001b[1;33m(\u001b[0m\u001b[1;34m\"train.pickle\"\u001b[0m\u001b[1;33m,\u001b[0m \u001b[1;34m\"wb\"\u001b[0m\u001b[1;33m)\u001b[0m \u001b[1;32mas\u001b[0m \u001b[0mtrain_pickle\u001b[0m\u001b[1;33m,\u001b[0m \u001b[0mopen\u001b[0m\u001b[1;33m(\u001b[0m\u001b[1;34m\"test.pickle\"\u001b[0m\u001b[1;33m,\u001b[0m \u001b[1;34m\"wb\"\u001b[0m\u001b[1;33m)\u001b[0m \u001b[1;32mas\u001b[0m \u001b[0mtest_pickle\u001b[0m\u001b[1;33m:\u001b[0m\u001b[1;33m\u001b[0m\u001b[0m\n\u001b[0;32m      2\u001b[0m     \u001b[0mcPickle\u001b[0m\u001b[1;33m.\u001b[0m\u001b[0mdump\u001b[0m\u001b[1;33m(\u001b[0m\u001b[0mtrain_set\u001b[0m\u001b[1;33m,\u001b[0m \u001b[0mtrain_pickle\u001b[0m\u001b[1;33m)\u001b[0m\u001b[1;33m\u001b[0m\u001b[0m\n\u001b[1;32m----> 3\u001b[1;33m     \u001b[0mcPickle\u001b[0m\u001b[1;33m.\u001b[0m\u001b[0mdump\u001b[0m\u001b[1;33m(\u001b[0m\u001b[0mtest_set\u001b[0m\u001b[1;33m,\u001b[0m \u001b[0mtest_pickle\u001b[0m\u001b[1;33m)\u001b[0m\u001b[1;33m\u001b[0m\u001b[0m\n\u001b[0m",
        "\u001b[1;32mC:\\Anaconda\\lib\\copy_reg.pyc\u001b[0m in \u001b[0;36m_reduce_ex\u001b[1;34m(self, proto)\u001b[0m\n\u001b[0;32m     72\u001b[0m     \u001b[0margs\u001b[0m \u001b[1;33m=\u001b[0m \u001b[1;33m(\u001b[0m\u001b[0mself\u001b[0m\u001b[1;33m.\u001b[0m\u001b[0m__class__\u001b[0m\u001b[1;33m,\u001b[0m \u001b[0mbase\u001b[0m\u001b[1;33m,\u001b[0m \u001b[0mstate\u001b[0m\u001b[1;33m)\u001b[0m\u001b[1;33m\u001b[0m\u001b[0m\n\u001b[0;32m     73\u001b[0m     \u001b[1;32mtry\u001b[0m\u001b[1;33m:\u001b[0m\u001b[1;33m\u001b[0m\u001b[0m\n\u001b[1;32m---> 74\u001b[1;33m         \u001b[0mgetstate\u001b[0m \u001b[1;33m=\u001b[0m \u001b[0mself\u001b[0m\u001b[1;33m.\u001b[0m\u001b[0m__getstate__\u001b[0m\u001b[1;33m\u001b[0m\u001b[0m\n\u001b[0m\u001b[0;32m     75\u001b[0m     \u001b[1;32mexcept\u001b[0m \u001b[0mAttributeError\u001b[0m\u001b[1;33m:\u001b[0m\u001b[1;33m\u001b[0m\u001b[0m\n\u001b[0;32m     76\u001b[0m         \u001b[1;32mif\u001b[0m \u001b[0mgetattr\u001b[0m\u001b[1;33m(\u001b[0m\u001b[0mself\u001b[0m\u001b[1;33m,\u001b[0m \u001b[1;34m\"__slots__\"\u001b[0m\u001b[1;33m,\u001b[0m \u001b[0mNone\u001b[0m\u001b[1;33m)\u001b[0m\u001b[1;33m:\u001b[0m\u001b[1;33m\u001b[0m\u001b[0m\n",
        "\u001b[1;31mRuntimeError\u001b[0m: maximum recursion depth exceeded"
       ]
      }
     ],
     "prompt_number": 127
    },
    {
     "cell_type": "code",
     "collapsed": false,
     "input": [
      "cPickle.d\n",
      "\n",
      "train_set = list(zip(games, sf_scores))\n",
      "test_set = list(zip(test_games, sf_scores[train_len:]))"
     ],
     "language": "python",
     "metadata": {},
     "outputs": [],
     "prompt_number": 110
    },
    {
     "cell_type": "code",
     "collapsed": false,
     "input": [
      "def white_scores(scores):\n",
      "    return black_scores([0.0] + scores)\n",
      "def black_scores(scores):\n",
      "    ret = []\n",
      "    for i in range(1, len(scores), 2):\n",
      "        ret.append((scores[i-1], scores[i]))\n",
      "    return ret\n",
      "\n",
      "def deltas(score_pairs):\n",
      "    return [a-b for a, b in score_pairs if a.is_integer() and b.is_integer()]\n",
      "    \n",
      "def score_feats(score_pairs):\n",
      "    feats = {}\n",
      "    ds = deltas(score_pairs)\n",
      "    feats['mean_delta'] = np.mean([d for d in ds if d.is_integer()])\n",
      "    feats['mean_score'] = np.mean([x for _, x in score_pairs if x.is_integer()])\n",
      "    feats['median_delta'] = np.median([d for d in ds if d.is_integer()])\n",
      "    feats['median_score'] = np.median([x for _, x in score_pairs if x.is_integer()])\n",
      "    return feats\n",
      "\n",
      "def result_to_num(result_string):\n",
      "    return {'1/2-1/2': 0, \"1-0\": 1, \"0-1\": -1}[result_string]\n",
      "\n",
      "def make_2X(game_and_scores):\n",
      "    game, scores = game_and_scores\n",
      "    ws = white_scores(scores)\n",
      "    bs = black_scores([-s for s in scores])\n",
      "    wfeats = score_feats(ws)\n",
      "    bfeats = score_feats(bs)\n",
      "    wfeats['is_white'] = 1\n",
      "    bfeats['is_white'] = 0\n",
      "    wfeats['result'] = result_to_num(game.headers['Result'])\n",
      "    bfeats['result'] = -result_to_num(game.headers['Result'])\n",
      "    return wfeats, bfeats\n",
      "\n",
      "def make_2y(game_and_scores):\n",
      "    game, scores = game_and_scores\n",
      "    return int(game.headers['WhiteElo']), int(game.headers['BlackElo'])"
     ],
     "language": "python",
     "metadata": {},
     "outputs": [],
     "prompt_number": 111
    },
    {
     "cell_type": "code",
     "collapsed": false,
     "input": [
      "feats = ['result', 'mean_delta', 'mean_score']\n",
      "X = []\n",
      "y = []\n",
      "for gas in train_set:\n",
      "    wf, bf = make_2X(gas)\n",
      "    wy, by = make_2y(gas)\n",
      "    X.append([wf[f] for f in feats])\n",
      "    X.append([bf[f] for f in feats])\n",
      "    y.append(wy)\n",
      "    y.append(by)\n",
      "X = np.array(X)\n",
      "y = np.array(y)\n",
      "n = len(y)"
     ],
     "language": "python",
     "metadata": {},
     "outputs": [],
     "prompt_number": 112
    },
    {
     "cell_type": "code",
     "collapsed": false,
     "input": [
      "len(train_set)"
     ],
     "language": "python",
     "metadata": {},
     "outputs": [
      {
       "metadata": {},
       "output_type": "pyout",
       "prompt_number": 113,
       "text": [
        "10"
       ]
      }
     ],
     "prompt_number": 113
    },
    {
     "cell_type": "code",
     "collapsed": false,
     "input": [
      "def score(clf):\n",
      "    kf = KFold(n, n_folds=5)\n",
      "    scores = []\n",
      "    for train, test in kf:\n",
      "        clf.fit(X[train], y[train])\n",
      "        scores.append(clf.score(X[test], y[test]))\n",
      "    return sum(scores)/len(scores)"
     ],
     "language": "python",
     "metadata": {},
     "outputs": [],
     "prompt_number": 116
    },
    {
     "cell_type": "code",
     "collapsed": false,
     "input": [
      "print score(DecisionTreeRegressor())\n",
      "print score(LinearRegression())\n",
      "print score(DummyRegressor())\n",
      "print score(RandomForestRegressor())"
     ],
     "language": "python",
     "metadata": {},
     "outputs": [
      {
       "output_type": "stream",
       "stream": "stdout",
       "text": [
        "-2.121892745\n",
        "-4.78504142188\n",
        "-3.18295280209\n",
        "-0.812803527747\n"
       ]
      }
     ],
     "prompt_number": 117
    },
    {
     "cell_type": "code",
     "collapsed": false,
     "input": [
      "print g.board()"
     ],
     "language": "python",
     "metadata": {},
     "outputs": [
      {
       "output_type": "stream",
       "stream": "stdout",
       "text": [
        "r n b q k b n r\n",
        "p p p p p p p p\n",
        ". . . . . . . .\n",
        ". . . . . . . .\n",
        ". . . . . . . .\n",
        ". . . . . . . .\n",
        "P P P P P P P P\n",
        "R N B Q K B N R\n"
       ]
      }
     ],
     "prompt_number": 30
    },
    {
     "cell_type": "code",
     "collapsed": false,
     "input": [
      "g.headers"
     ],
     "language": "python",
     "metadata": {},
     "outputs": [
      {
       "metadata": {},
       "output_type": "pyout",
       "prompt_number": 32,
       "text": [
        "OrderedDict([('Event', '1'), ('Site', 'kaggle.com'), ('Date', '??'), ('Round', '??'), ('White', '??'), ('Black', '??'), ('Result', '1/2-1/2'), ('WhiteElo', '2354'), ('BlackElo', '2411')])"
       ]
      }
     ],
     "prompt_number": 32
    },
    {
     "cell_type": "code",
     "collapsed": false,
     "input": [
      "g.headers['Result']"
     ],
     "language": "python",
     "metadata": {},
     "outputs": [
      {
       "metadata": {},
       "output_type": "pyout",
       "prompt_number": 33,
       "text": [
        "'1/2-1/2'"
       ]
      }
     ],
     "prompt_number": 33
    },
    {
     "cell_type": "code",
     "collapsed": false,
     "input": [
      "test_X = for"
     ],
     "language": "python",
     "metadata": {},
     "outputs": []
    }
   ],
   "metadata": {}
  }
 ]
}