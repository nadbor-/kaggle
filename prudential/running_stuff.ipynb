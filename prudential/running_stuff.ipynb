{
 "cells": [
  {
   "cell_type": "code",
   "execution_count": 1,
   "metadata": {
    "collapsed": false
   },
   "outputs": [
    {
     "name": "stdout",
     "output_type": "stream",
     "text": [
      "cache\n",
      "download.sh\n",
      "extra_trees.csv\n",
      "keras.ipynb\n",
      "logisticreg.csv\n",
      "log_train.log\n",
      "my_submission.csv\n",
      "regression_training.ipynb\n",
      "running_stuff.ipynb\n",
      "sample_submission.csv\n",
      "test.csv\n",
      "train.csv\n",
      "training.ipynb\n",
      "train.py\n",
      "xgbc.csv\n",
      "xgb_offset_submission.csv\n",
      "xgboost.ipynb\n"
     ]
    }
   ],
   "source": [
    "%%bash\n",
    "ls"
   ]
  },
  {
   "cell_type": "code",
   "execution_count": 2,
   "metadata": {
    "collapsed": true
   },
   "outputs": [],
   "source": [
    "%%bash\n",
    "rm my_submission.csv\n",
    "rm xgb_offset_submission.csv"
   ]
  },
  {
   "cell_type": "code",
   "execution_count": 145,
   "metadata": {
    "collapsed": true
   },
   "outputs": [],
   "source": [
    "%%bash\n",
    "screen -d -m -S trainislaw bash run_train.sh"
   ]
  },
  {
   "cell_type": "code",
   "execution_count": 163,
   "metadata": {
    "collapsed": false
   },
   "outputs": [
    {
     "name": "stdout",
     "output_type": "stream",
     "text": [
      "There are screens on:\r\n",
      "\t9943.trainislaw\t(02/06/2016 02:33:47 PM)\t(Detached)\n",
      "\t5114..ip-172-31-7-40\t(01/17/2016 03:29:56 PM)\t(Detached)\n",
      "2 Sockets in /var/run/screen/S-ubuntu.\n",
      "\r\n"
     ]
    }
   ],
   "source": [
    "%%bash\n",
    "screen -ls"
   ]
  },
  {
   "cell_type": "code",
   "execution_count": 129,
   "metadata": {
    "collapsed": false
   },
   "outputs": [],
   "source": [
    "%%bash\n",
    "screen -X -S 6857 quit"
   ]
  },
  {
   "cell_type": "code",
   "execution_count": 17,
   "metadata": {
    "collapsed": false
   },
   "outputs": [
    {
     "name": "stdout",
     "output_type": "stream",
     "text": [
      "total 27M\n",
      "drwxrwxr-x  4 ubuntu ubuntu 4.0K Feb  1 12:32 .\n",
      "drwxrwxr-x 10 ubuntu ubuntu 4.0K Jan 10 21:20 ..\n",
      "drwxrwxr-x  6 ubuntu ubuntu 4.0K Jan 17 15:38 cache\n",
      "-rw-rw-r--  1 ubuntu ubuntu 2.1K Jan 10 21:20 download.sh\n",
      "-rw-rw-r--  1 ubuntu ubuntu 152K Jan 23 22:29 extra_trees.csv\n",
      "drwxr-xr-x  2 ubuntu ubuntu 4.0K Jan 27 22:04 .ipynb_checkpoints\n",
      "-rw-rw-r--  1 ubuntu ubuntu  20K Jan 10 21:20 keras.ipynb\n",
      "-rw-rw-r--  1 ubuntu ubuntu  36K Jan 28 23:59 log_20160127.log\n",
      "-rw-rw-r--  1 ubuntu ubuntu 152K Jan 23 23:39 logisticreg.csv\n",
      "-rw-rw-r--  1 ubuntu ubuntu  60K Jan 23 23:39 log_train.log\n",
      "-rw-rw-r--  1 ubuntu ubuntu 152K Jan 28 23:59 optimized_etr_stacker.csv\n",
      "-rw-rw-r--  1 ubuntu ubuntu 152K Jan 28 10:02 optimized_lin_stacker.csv\n",
      "-rw-rw-r--  1 ubuntu ubuntu 152K Jan 28 10:11 optimized_xgbr_stacker.csv\n",
      "-rw-rw-r--  1 ubuntu ubuntu  26K Jan 17 14:57 regression_training.ipynb\n",
      "-rw-rw-r--  1 ubuntu ubuntu 3.0K Feb  1 12:32 running_stuff.ipynb\n",
      "-rw-r--r--  1 root   root   152K Nov 17 14:12 sample_submission.csv\n",
      "-rw-r--r--  1 root   root   6.4M Nov 17 14:12 test.csv\n",
      "-rw-r--r--  1 root   root    20M Nov 17 14:12 train.csv\n",
      "-rw-rw-r--  1 ubuntu ubuntu  34K Jan 16 18:55 training.ipynb\n",
      "-rw-rw-r--  1 ubuntu ubuntu  12K Jan 27 22:26 train.py\n",
      "-rw-rw-r--  1 ubuntu ubuntu 152K Jan 23 23:29 xgbc.csv\n",
      "-rw-rw-r--  1 ubuntu ubuntu 6.5K Jan 16 18:56 xgboost.ipynb\n"
     ]
    }
   ],
   "source": [
    "%%bash\n",
    "ls -lah"
   ]
  },
  {
   "cell_type": "code",
   "execution_count": 44,
   "metadata": {
    "collapsed": false
   },
   "outputs": [],
   "source": [
    "%%bash\n",
    "screen -d -m -L python ascript.py  "
   ]
  },
  {
   "cell_type": "code",
   "execution_count": 59,
   "metadata": {
    "collapsed": false
   },
   "outputs": [
    {
     "name": "stdout",
     "output_type": "stream",
     "text": [
      "There is a screen on:\r\n",
      "\t5114..ip-172-31-7-40\t(01/17/2016 03:29:56 PM)\t(Detached)\n",
      "1 Socket in /var/run/screen/S-ubuntu.\n",
      "\r\n"
     ]
    }
   ],
   "source": [
    "%%bash\n",
    "screen -ls"
   ]
  },
  {
   "cell_type": "code",
   "execution_count": 134,
   "metadata": {
    "collapsed": false
   },
   "outputs": [
    {
     "name": "stdout",
     "output_type": "stream",
     "text": [
      "best_ensemble.log\n",
      "download.sh\n",
      "errorfile.txt\n",
      "feat_eng_cache\n",
      "feature_engineering.py\n",
      "feature_engineering.pyc\n",
      "fecache\n",
      "fuck_joblib.py\n",
      "keras.ipynb\n",
      "memo_fe\n",
      "newlog.log\n",
      "persistent_cache.py\n",
      "persistent_cache.pyc\n",
      "regression_training.ipynb\n",
      "running_stuff.ipynb\n",
      "run_script.sh\n",
      "run_train.sh\n",
      "sample_submission.csv\n",
      "script.py\n",
      "test.csv\n",
      "testerrorfile.txt\n",
      "train1.py\n",
      "train.csv\n",
      "training.ipynb\n",
      "train.py\n",
      "train_utils.py\n",
      "train_utils.pyc\n",
      "xgboost.ipynb\n"
     ]
    }
   ],
   "source": [
    "%%bash\n",
    "ls"
   ]
  },
  {
   "cell_type": "code",
   "execution_count": 135,
   "metadata": {
    "collapsed": false
   },
   "outputs": [
    {
     "name": "stdout",
     "output_type": "stream",
     "text": [
      "Traceback (most recent call last):\n",
      "  File \"train.py\", line 41, in <module>\n",
      "    benchmark_model_optimized(xgbr(), f)\n",
      "  File \"/home/ubuntu/nadbor/kaggle/prudential/train_utils.py\", line 183, in benchmark_model_optimized\n",
      "    preds = optimized_train_predictions(train_predictions(model, fe))\n",
      "  File \"<decorator-gen-1>\", line 2, in train_predictions\n",
      "  File \"/home/ubuntu/nadbor/kaggle/prudential/persistent_cache.py\", line 105, in wrapper\n",
      "    result = f(*args, **kwargs)\n",
      "  File \"/home/ubuntu/nadbor/kaggle/prudential/train_utils.py\", line 52, in train_predictions\n",
      "    X, _ = train_test_sets(fe)\n",
      "  File \"/usr/local/lib/python2.7/dist-packages/joblib/memory.py\", line 483, in __call__\n",
      "    return self._cached_call(args, kwargs)[0]\n",
      "  File \"/usr/local/lib/python2.7/dist-packages/joblib/memory.py\", line 430, in _cached_call\n",
      "    out, metadata = self.call(*args, **kwargs)\n",
      "  File \"/usr/local/lib/python2.7/dist-packages/joblib/memory.py\", line 675, in call\n",
      "    output = self.func(*args, **kwargs)\n",
      "  File \"/home/ubuntu/nadbor/kaggle/prudential/feature_engineering.py\", line 220, in train_test_sets\n",
      "    return extractor()\n",
      "  File \"/home/ubuntu/nadbor/kaggle/prudential/feature_engineering.py\", line 115, in fe2\n",
      "    all_data['sum_keywords'] = sum(train[col] for col in mk)\n",
      "  File \"/home/ubuntu/nadbor/kaggle/prudential/feature_engineering.py\", line 115, in <genexpr>\n",
      "    all_data['sum_keywords'] = sum(train[col] for col in mk)\n",
      "NameError: free variable 'train' referenced before assignment in enclosing scope\n"
     ]
    }
   ],
   "source": [
    "%%bash\n",
    "cat errorfile.txt"
   ]
  },
  {
   "cell_type": "code",
   "execution_count": 43,
   "metadata": {
    "collapsed": false
   },
   "outputs": [],
   "source": [
    "%%bash\n",
    "echo \"0/0\" > ascript.py"
   ]
  },
  {
   "cell_type": "code",
   "execution_count": 115,
   "metadata": {
    "collapsed": false
   },
   "outputs": [],
   "source": [
    "%%bash\n",
    "cat errorfile.txt"
   ]
  },
  {
   "cell_type": "code",
   "execution_count": 109,
   "metadata": {
    "collapsed": false
   },
   "outputs": [
    {
     "name": "stdout",
     "output_type": "stream",
     "text": [
      "Traceback (most recent call last):\n",
      "  File \"<ipython-input-109-f9c855c8b7d3>\", line 3, in <module>\n",
      "    0/0\n",
      "ZeroDivisionError: integer division or modulo by zero\n",
      "\n"
     ]
    }
   ],
   "source": [
    "import traceback\n",
    "try:\n",
    "    0/0\n",
    "except:\n",
    "    s = traceback.format_exc()\n",
    "print s"
   ]
  },
  {
   "cell_type": "code",
   "execution_count": 107,
   "metadata": {
    "collapsed": false
   },
   "outputs": [
    {
     "ename": "ZeroDivisionError",
     "evalue": "integer division or modulo by zero",
     "output_type": "error",
     "traceback": [
      "\u001b[1;31m---------------------------------------------------------------------------\u001b[0m",
      "\u001b[1;31mZeroDivisionError\u001b[0m                         Traceback (most recent call last)",
      "\u001b[1;32m<ipython-input-107-6549dea6d1ae>\u001b[0m in \u001b[0;36m<module>\u001b[1;34m()\u001b[0m\n\u001b[1;32m----> 1\u001b[1;33m \u001b[1;36m0\u001b[0m\u001b[1;33m/\u001b[0m\u001b[1;36m0\u001b[0m\u001b[1;33m\u001b[0m\u001b[0m\n\u001b[0m",
      "\u001b[1;31mZeroDivisionError\u001b[0m: integer division or modulo by zero"
     ]
    }
   ],
   "source": [
    "0/0"
   ]
  },
  {
   "cell_type": "code",
   "execution_count": 56,
   "metadata": {
    "collapsed": false
   },
   "outputs": [
    {
     "data": {
      "text/html": [
       "<div style=\"max-height:1000px;max-width:1500px;overflow:auto;\">\n",
       "<table border=\"1\" class=\"dataframe\">\n",
       "  <thead>\n",
       "    <tr style=\"text-align: right;\">\n",
       "      <th></th>\n",
       "      <th>a</th>\n",
       "    </tr>\n",
       "  </thead>\n",
       "  <tbody>\n",
       "    <tr>\n",
       "      <th>0</th>\n",
       "      <td> x1</td>\n",
       "    </tr>\n",
       "    <tr>\n",
       "      <th>1</th>\n",
       "      <td> x3</td>\n",
       "    </tr>\n",
       "    <tr>\n",
       "      <th>2</th>\n",
       "      <td> y5</td>\n",
       "    </tr>\n",
       "  </tbody>\n",
       "</table>\n",
       "</div>"
      ],
      "text/plain": [
       "    a\n",
       "0  x1\n",
       "1  x3\n",
       "2  y5"
      ]
     },
     "execution_count": 56,
     "metadata": {},
     "output_type": "execute_result"
    }
   ],
   "source": [
    "df"
   ]
  },
  {
   "cell_type": "code",
   "execution_count": 80,
   "metadata": {
    "collapsed": false
   },
   "outputs": [
    {
     "name": "stdout",
     "output_type": "stream",
     "text": [
      "(59381, 1726) (19765, 1726)\n",
      "(59381, 1726) (19765, 1726)\n"
     ]
    }
   ],
   "source": [
    "%%bash\n",
    "python fuck_joblib.py"
   ]
  },
  {
   "cell_type": "code",
   "execution_count": 65,
   "metadata": {
    "collapsed": false
   },
   "outputs": [
    {
     "data": {
      "text/html": [
       "<div style=\"max-height:1000px;max-width:1500px;overflow:auto;\">\n",
       "<table border=\"1\" class=\"dataframe\">\n",
       "  <thead>\n",
       "    <tr style=\"text-align: right;\">\n",
       "      <th></th>\n",
       "      <th>a</th>\n",
       "    </tr>\n",
       "  </thead>\n",
       "  <tbody>\n",
       "    <tr>\n",
       "      <th>0</th>\n",
       "      <td> x1</td>\n",
       "    </tr>\n",
       "  </tbody>\n",
       "</table>\n",
       "</div>"
      ],
      "text/plain": [
       "    a\n",
       "0  x1"
      ]
     },
     "execution_count": 65,
     "metadata": {},
     "output_type": "execute_result"
    }
   ],
   "source": [
    "df.take([0])"
   ]
  },
  {
   "cell_type": "code",
   "execution_count": 71,
   "metadata": {
    "collapsed": false
   },
   "outputs": [],
   "source": [
    "import numpy as np"
   ]
  },
  {
   "cell_type": "code",
   "execution_count": 123,
   "metadata": {
    "collapsed": false
   },
   "outputs": [],
   "source": [
    "s = \"\"\"Traceback (most recent call last):    \n",
    "File \"train.py\", line 60, in <module>     \n",
    "benchmark_optimized_stacker(linreg(), team, f) \n",
    "File \"/home/ubuntu/nadbor/kaggle/prudential/train_utils.py\", line 236, in benchmark_optimized_stacker     \n",
    "preds = stacker_train_predictions(stacker, base_clfs, fe)  \n",
    "File \"<decorator-gen-3>\", line 2, in stacker_train_predictions  \n",
    "File \"/home/ubuntu/nadbor/kaggle/prudential/persistent_cache.py\", line 105, in wrapper   \n",
    "result = f(*args, **kwargs)  \n",
    "File \"/home/ubuntu/nadbor/kaggle/prudential/train_utils.py\", line 125, in stacker_train_predictions   \n",
    "stacked_X = np.hstack([X] + [train_predictions(clf, fe).reshape(n, 1) for clf in base_clfs]) \n",
    "File \"<decorator-gen-1>\", line 2, in train_predictions  \n",
    "File \"/home/ubuntu/nadbor/kaggle/prudential/persistent_cache.py\", line 105, in wrapper  \n",
    "result = f(*args, **kwargs)   \n",
    "File \"/home/ubuntu/nadbor/kaggle/prudential/train_utils.py\", line 103, in train_predictions \n",
    "model.fit(X[train], y[train])    \n",
    "File \"/usr/local/lib/python2.7/dist-packages/sklearn/ensemble/forest.py\", line 224, in fit   \n",
    "X, = check_arrays(X, dtype=DTYPE, sparse_format=\"dense\")   \n",
    "File \"/usr/local/lib/python2.7/dist-packages/sklearn/utils/validation.py\", line 283, in check_arrays \n",
    "_assert_all_finite(array)    \n",
    "File \"/usr/local/lib/python2.7/dist-packages/sklearn/utils/validation.py\", line 43, in _assert_all_finite  \n",
    "\" or a value too large for %r.\" % X.dtype)  ValueError: Input contains NaN, infinity or a value too large for dtype('float32').  \"\"\""
   ]
  },
  {
   "cell_type": "code",
   "execution_count": 126,
   "metadata": {
    "collapsed": false
   },
   "outputs": [
    {
     "name": "stdout",
     "output_type": "stream",
     "text": [
      "Traceback (most recent call last):    File \"train.py\", line 60, in <module>      benchmark_optimized_stacker(linreg(), team, f)    File \"/home/ubuntu/nadbor/kaggle/prudential/train_utils.py\", line 236, in benchmark_optimized_stacker      preds = stacker_train_predictions(stacker, base_clfs, fe)    File \"<decorator-gen-3>\", line 2, in stacker_train_predictions    File \"/home/ubuntu/nadbor/kaggle/prudential/persistent_cache.py\", line 105, in wrapper      result = f(*args, **kwargs)    File \"/home/ubuntu/nadbor/kaggle/prudential/train_utils.py\", line 125, in stacker_train_predictions      stacked_X = np.hstack([X] + [train_predictions(clf, fe).reshape(n, 1) for clf in base_clfs])    File \"<decorator-gen-1>\", line 2, in train_predictions    File \"/home/ubuntu/nadbor/kaggle/prudential/persistent_cache.py\", line 105, in wrapper      result = f(*args, **kwargs)    File \"/home/ubuntu/nadbor/kaggle/prudential/train_utils.py\", line 103, in train_predictions      model.fit(X[train], y[train])    File \"/usr/local/lib/python2.7/dist-packages/sklearn/ensemble/forest.py\", line 224, in fit      X, = check_arrays(X, dtype=DTYPE, sparse_format=\"dense\")    File \"/usr/local/lib/python2.7/dist-packages/sklearn/utils/validation.py\", line 283, in check_arrays      _assert_all_finite(array)    File \"/usr/local/lib/python2.7/dist-packages/sklearn/utils/validation.py\", line 43, in _assert_all_finite      \" or a value too large for %r.\" % X.dtype)  ValueError: Input contains NaN, infinity or a value too large for dtype('float32').  \n"
     ]
    }
   ],
   "source": [
    "print s"
   ]
  },
  {
   "cell_type": "code",
   "execution_count": null,
   "metadata": {
    "collapsed": true
   },
   "outputs": [],
   "source": []
  }
 ],
 "metadata": {
  "kernelspec": {
   "display_name": "Python 2",
   "language": "python",
   "name": "python2"
  },
  "language_info": {
   "codemirror_mode": {
    "name": "ipython",
    "version": 2
   },
   "file_extension": ".py",
   "mimetype": "text/x-python",
   "name": "python",
   "nbconvert_exporter": "python",
   "pygments_lexer": "ipython2",
   "version": "2.7.6"
  }
 },
 "nbformat": 4,
 "nbformat_minor": 0
}
