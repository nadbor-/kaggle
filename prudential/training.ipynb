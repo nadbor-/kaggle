{
 "cells": [
  {
   "cell_type": "code",
   "execution_count": 1,
   "metadata": {
    "collapsed": true
   },
   "outputs": [],
   "source": [
    "import feature_engineering as fe\n",
    "import train_utils as tu"
   ]
  },
  {
   "cell_type": "code",
   "execution_count": null,
   "metadata": {
    "collapsed": true
   },
   "outputs": [],
   "source": [
    "x, xx = fe.oh_med()"
   ]
  },
  {
   "cell_type": "code",
   "execution_count": null,
   "metadata": {
    "collapsed": false
   },
   "outputs": [],
   "source": [
    "alldata  =  fe.pd.read_csv(\"train.csv\")\n",
    "y = alldata.Response"
   ]
  },
  {
   "cell_type": "code",
   "execution_count": null,
   "metadata": {
    "collapsed": false
   },
   "outputs": [],
   "source": [
    "corrs = []\n",
    "for i in range(x.shape[1]):\n",
    "    corrs.append(fe.np.corrcoef(x[:, i], y)[0][1])"
   ]
  },
  {
   "cell_type": "code",
   "execution_count": null,
   "metadata": {
    "collapsed": false
   },
   "outputs": [],
   "source": [
    "good_corrs = filter(lambda (_, x): abs(x) > 0.01, enumerate(corrs))\n",
    "good_inds = [i for i, _ in good_corrs]\n",
    "len(good_inds)"
   ]
  },
  {
   "cell_type": "code",
   "execution_count": null,
   "metadata": {
    "collapsed": false
   },
   "outputs": [],
   "source": [
    "x[:, good_inds].shape, xx[:, good_inds].shape"
   ]
  },
  {
   "cell_type": "code",
   "execution_count": null,
   "metadata": {
    "collapsed": true
   },
   "outputs": [],
   "source": [
    "nx, nxx = fe.cut_uncorrelated(x, xx, y, 0.01)"
   ]
  },
  {
   "cell_type": "code",
   "execution_count": null,
   "metadata": {
    "collapsed": false
   },
   "outputs": [],
   "source": [
    "def oh_med_cut():\n",
    "    x, xx = fe.oh_med()\n",
    "    y = fe.get_y()\n",
    "    return fe.cut_uncorrelated(x, xx, y, 0.01)"
   ]
  },
  {
   "cell_type": "code",
   "execution_count": null,
   "metadata": {
    "collapsed": false
   },
   "outputs": [],
   "source": [
    "x, xx = oh_med_cut()"
   ]
  },
  {
   "cell_type": "code",
   "execution_count": null,
   "metadata": {
    "collapsed": false
   },
   "outputs": [],
   "source": [
    "x.shape, xx.shape"
   ]
  },
  {
   "cell_type": "code",
   "execution_count": null,
   "metadata": {
    "collapsed": false
   },
   "outputs": [],
   "source": [
    "x.shape, xx.shape"
   ]
  },
  {
   "cell_type": "code",
   "execution_count": null,
   "metadata": {
    "collapsed": false
   },
   "outputs": [],
   "source": [
    "nx.shape"
   ]
  },
  {
   "cell_type": "code",
   "execution_count": null,
   "metadata": {
    "collapsed": false
   },
   "outputs": [],
   "source": [
    "x, xx = fe.fe2()"
   ]
  },
  {
   "cell_type": "code",
   "execution_count": 2,
   "metadata": {
    "collapsed": false
   },
   "outputs": [
    {
     "name": "stderr",
     "output_type": "stream",
     "text": [
      "INFO:trainlo:optimising offsets 59381\n",
      "INFO:trainlo:done optimising offsets 59381\n",
      "INFO:trainlo:made optimized predictions for stacker LinearRegression(copy_X=True, fit_intercept=True, normalize=False) with features fe2_km20 and base regressors [LinearRegression(copy_X=True, fit_intercept=True, normalize=False), XGBRegressor(base_score=0.5, colsample_bylevel=1, colsample_bytree=0.3,\n",
      "       gamma=0, learning_rate=0.1, max_delta_step=0, max_depth=9,\n",
      "       min_child_weight=80, missing=None, n_estimators=100, nthread=-1,\n",
      "       objective='reg:linear', reg_alpha=0, reg_lambda=1,\n",
      "       scale_pos_weight=1, seed=0, silent=1, subsample=0.85)]\n",
      "INFO:trainlo:made submission to file linlinxgbrfe2km20.csv. stacker LinearRegression(copy_X=True, fit_intercept=True, normalize=False), features fe2_km20\n"
     ]
    }
   ],
   "source": [
    "tu.make_sub_optimized(tu.linreg(), sorted([tu.linreg(), tu.xgbr()]), \"fe2_km20\", \"linlinxgbrfe2km20.csv\")"
   ]
  },
  {
   "cell_type": "code",
   "execution_count": null,
   "metadata": {
    "collapsed": true
   },
   "outputs": [],
   "source": []
  }
 ],
 "metadata": {
  "kernelspec": {
   "display_name": "Python 2",
   "language": "python",
   "name": "python2"
  },
  "language_info": {
   "codemirror_mode": {
    "name": "ipython",
    "version": 2
   },
   "file_extension": ".py",
   "mimetype": "text/x-python",
   "name": "python",
   "nbconvert_exporter": "python",
   "pygments_lexer": "ipython2",
   "version": "2.7.6"
  }
 },
 "nbformat": 4,
 "nbformat_minor": 0
}
