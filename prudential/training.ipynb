{
 "cells": [
  {
   "cell_type": "code",
   "execution_count": 1,
   "metadata": {
    "collapsed": true
   },
   "outputs": [],
   "source": [
    "import feature_engineering as fe\n",
    "import train_utils as tu\n",
    "from persistent_cache import memo, PersistentDict as Perd\n",
    "from sklearn.cross_validation import StratifiedKFold, KFold"
   ]
  },
  {
   "cell_type": "code",
   "execution_count": 3,
   "metadata": {
    "collapsed": false
   },
   "outputs": [],
   "source": [
    "X, XX = fe.train_test_sets(\"basic\")\n",
    "y = fe.get_y()"
   ]
  },
  {
   "cell_type": "code",
   "execution_count": 4,
   "metadata": {
    "collapsed": false
   },
   "outputs": [
    {
     "name": "stderr",
     "output_type": "stream",
     "text": [
      "INFO:trainlo:optimising offsets 59381\n",
      "INFO:trainlo:done optimising offsets 59381\n"
     ]
    }
   ],
   "source": [
    "model = tu.linreg()\n",
    "model.fit(X, y)\n",
    "preds = model.predict(X)\n",
    "offsets = tu.optimize_offsets(preds, y)"
   ]
  },
  {
   "cell_type": "code",
   "execution_count": 6,
   "metadata": {
    "collapsed": false
   },
   "outputs": [
    {
     "data": {
      "text/plain": [
       "(8,)"
      ]
     },
     "execution_count": 6,
     "metadata": {},
     "output_type": "execute_result"
    }
   ],
   "source": [
    "offsets.shape"
   ]
  },
  {
   "cell_type": "code",
   "execution_count": 7,
   "metadata": {
    "collapsed": false
   },
   "outputs": [
    {
     "name": "stderr",
     "output_type": "stream",
     "text": [
      "INFO:trainlo:optimising offsets 59381\n",
      "INFO:trainlo:done optimising offsets 59381\n"
     ]
    }
   ],
   "source": [
    "model = tu.xgbr()\n",
    "model.fit(X, y)\n",
    "preds = model.predict(X)\n",
    "offsets1 = tu.optimize_offsets(preds, y)"
   ]
  },
  {
   "cell_type": "code",
   "execution_count": 8,
   "metadata": {
    "collapsed": false
   },
   "outputs": [
    {
     "data": {
      "text/plain": [
       "(8,)"
      ]
     },
     "execution_count": 8,
     "metadata": {},
     "output_type": "execute_result"
    }
   ],
   "source": [
    "offsets1.shape"
   ]
  },
  {
   "cell_type": "code",
   "execution_count": 9,
   "metadata": {
    "collapsed": false
   },
   "outputs": [
    {
     "data": {
      "text/plain": [
       "(array([  0.12867712,  -2.09942806, -43.56824553,  -1.99933674,\n",
       "         -1.08124142,  -0.16327151,   0.95684983,  26.11763939]),\n",
       " array([  1.28677119e-01,  -2.09942806e+00,  -4.35682455e+01,\n",
       "         -1.22338917e+00,  -8.21077857e-01,   9.05535818e-03,\n",
       "          7.16928157e-01,   2.61176394e+01]))"
      ]
     },
     "execution_count": 9,
     "metadata": {},
     "output_type": "execute_result"
    }
   ],
   "source": [
    "offsets, offsets1"
   ]
  },
  {
   "cell_type": "code",
   "execution_count": 17,
   "metadata": {
    "collapsed": false
   },
   "outputs": [
    {
     "data": {
      "text/plain": [
       "(8,)"
      ]
     },
     "execution_count": 17,
     "metadata": {},
     "output_type": "execute_result"
    }
   ],
   "source": [
    "tu.np.vstack([offsets, offsets1]).mean(axis=0)"
   ]
  },
  {
   "cell_type": "code",
   "execution_count": null,
   "metadata": {
    "collapsed": true
   },
   "outputs": [],
   "source": []
  }
 ],
 "metadata": {
  "kernelspec": {
   "display_name": "Python 2",
   "language": "python",
   "name": "python2"
  },
  "language_info": {
   "codemirror_mode": {
    "name": "ipython",
    "version": 2
   },
   "file_extension": ".py",
   "mimetype": "text/x-python",
   "name": "python",
   "nbconvert_exporter": "python",
   "pygments_lexer": "ipython2",
   "version": "2.7.6"
  }
 },
 "nbformat": 4,
 "nbformat_minor": 0
}
