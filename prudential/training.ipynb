{
 "cells": [
  {
   "cell_type": "code",
   "execution_count": 3,
   "metadata": {
    "collapsed": false
   },
   "outputs": [
    {
     "name": "stdout",
     "output_type": "stream",
     "text": [
      "Load the data using pandas\n",
      "Eliminate missing values\n"
     ]
    }
   ],
   "source": [
    "#=========================================LOGGING\n",
    "import logging\n",
    "# create logger\n",
    "logging.basicConfig(filename='loglog.log',level=logging.DEBUG, format=\"%(asctime)s; %(levelname)s;  %(message)s\")\n",
    "logger = logging.getLogger(\"trainlo\")\n",
    "logger.setLevel(logging.DEBUG)\n",
    "\n",
    "def info(msg):\n",
    "    logger.info(msg.replace(\"\\n\", \"  \"))\n",
    "#=========================================LOGGING\n",
    "\n",
    "import sys\n",
    "import pandas as pd\n",
    "import numpy as np\n",
    "from time import time\n",
    "from scipy.optimize import fmin_powell\n",
    "from sklearn.cross_validation import StratifiedKFold, KFold\n",
    "from sklearn.metrics import accuracy_score\n",
    "from sklearn.dummy import DummyClassifier, DummyRegressor\n",
    "from sklearn.linear_model import LogisticRegression, LinearRegression, SGDClassifier, SGDRegressor, Perceptron\n",
    "from sklearn.ensemble import RandomForestClassifier, ExtraTreesClassifier, RandomForestRegressor, ExtraTreesRegressor\n",
    "from sklearn.svm import SVC, SVR\n",
    "from xgboost.sklearn import XGBClassifier, XGBRegressor\n",
    "from sklearn.preprocessing import LabelEncoder, OneHotEncoder\n",
    "from persistent_cache import memo, PersistentDict as Perd\n",
    "from sklearn.multiclass import OneVsRestClassifier\n",
    "from sklearn.preprocessing import LabelBinarizer, LabelEncoder\n",
    "from ml_metrics import quadratic_weighted_kappa\n",
    "\n",
    "def eval_wrapper(yhat, y):  \n",
    "    y = np.array(y)\n",
    "    y = y.astype(int)\n",
    "    yhat = np.array(yhat)\n",
    "    yhat = np.clip(np.round(yhat), np.min(y), np.max(y)).astype(int)   \n",
    "    return quadratic_weighted_kappa(yhat, y)\n",
    "\n",
    "\n",
    "num_classes = 8\n",
    "\n",
    "print(\"Load the data using pandas\")\n",
    "train = pd.read_csv(\"train.csv\")\n",
    "test = pd.read_csv(\"test.csv\")\n",
    "\n",
    "# combine train and test\n",
    "all_data = train.append(test)\n",
    "\n",
    "# factorize categorical variables    \n",
    "all_data['Product_Info_2'] = pd.factorize(all_data['Product_Info_2'])[0]\n",
    "# FEATURE ENGINEERING\n",
    "all_data['bmi_ins_age'] = all_data.BMI * all_data.Ins_Age\n",
    "all_data['nan_count'] = all_data.isnull().sum(axis=1)\n",
    "all_data['emp_inf_4_sq'] = all_data.Employment_Info_4 ** 2\n",
    "all_data['fam_hist_4_sq'] = all_data.Family_Hist_4 ** 2\n",
    "all_data['fam_hist_2_sq'] = all_data.Family_Hist_2 ** 2\n",
    "\n",
    "mk = [col for col in train.columns if col.startswith(\"Medical_K\")]\n",
    "all_data['sum_keywords'] = sum(train[col] for col in mk)\n",
    "\n",
    "all_data.drop('Medical_History_24')\n",
    "all_data.drop('Medical_History_10')\n",
    "\n",
    "print('Eliminate missing values')    \n",
    "# Use -1 for any others\n",
    "all_data.fillna(-1, inplace=True)\n",
    "\n",
    "# fix the dtype on the label column\n",
    "all_data['Response'] = all_data['Response'].astype(int)\n",
    "\n",
    "# Provide split column\n",
    "# all_data['Split'] = np.random.randint(5, size=all_data.shape[0])\n",
    "\n",
    "# split train and test\n",
    "train = all_data[all_data['Response']>0].copy()\n",
    "test = all_data[all_data['Response']<1].copy()"
   ]
  },
  {
   "cell_type": "code",
   "execution_count": 8,
   "metadata": {
    "collapsed": false
   },
   "outputs": [
    {
     "data": {
      "text/plain": [
       "3"
      ]
     },
     "execution_count": 8,
     "metadata": {},
     "output_type": "execute_result"
    }
   ],
   "source": [
    "train.drop(\"Medical_Histo\")"
   ]
  },
  {
   "cell_type": "code",
   "execution_count": 4,
   "metadata": {
    "collapsed": false
   },
   "outputs": [],
   "source": [
    "import scipy\n",
    "def corr(x, y):\n",
    "    return scipy.stats.pearsonr(x, y)[0]"
   ]
  },
  {
   "cell_type": "code",
   "execution_count": 10,
   "metadata": {
    "collapsed": false
   },
   "outputs": [
    {
     "name": "stdout",
     "output_type": "stream",
     "text": [
      "0.012\t-0.015\t0.014\t-0.014 Employment_Info_4\n",
      "0.167\t-0.178\t0.166\t-0.178 Family_Hist_2\n",
      "0.157\t-0.189\t0.158\t-0.184 Family_Hist_4\n",
      "0.000\t-0.000\t0.000\t-0.001 Id\n",
      "-0.000\t-0.002\t-0.004\t-0.005 Insurance_History_4\n",
      "-0.006\t-0.007\t-0.007\t-0.007 Insurance_History_7\n",
      "0.007\t0.009\t0.009\t0.010 Insurance_History_8\n",
      "-0.006\t-0.007\t-0.007\t-0.008 Insurance_History_9\n",
      "0.036\t0.042\t0.045\t0.047 Medical_History_11\n",
      "-0.001\t-0.001\t-0.001\t-0.001 Medical_History_25\n",
      "-0.046\t-0.054\t-0.058\t-0.061 Medical_History_8\n",
      "-0.022\t0.001\t0.021\t0.029 Product_Info_2\n"
     ]
    }
   ],
   "source": [
    "for c in train.columns:\n",
    "    c1, c2, c3, c4 = corr(train[c], train.Response), corr(train[c]**2, train.Response), corr(train[c]**3, train.Response), corr(train[c]**4, train.Response)\n",
    "    ac1, ac2, ac3, ac4 = map(abs, [c1, c2, c3, c4])\n",
    "    m = max(ac1, ac2, ac3, ac4)\n",
    "    if m > 1.05* ac1:\n",
    "        print \"\\t\".join(\"%.3f\" % co for co in [c1, c2, c3, c4]), c"
   ]
  },
  {
   "cell_type": "code",
   "execution_count": 6,
   "metadata": {
    "collapsed": false
   },
   "outputs": [
    {
     "name": "stdout",
     "output_type": "stream",
     "text": [
      "0.012   0.014 Employment_Info_4\n",
      "-0.000   -0.004 Insurance_History_4\n",
      "-0.006   -0.007 Insurance_History_7\n",
      "0.007   0.009 Insurance_History_8\n",
      "-0.006   -0.007 Insurance_History_9\n",
      "0.036   0.045 Medical_History_11\n",
      "-0.001   -0.001 Medical_History_25\n",
      "-0.046   -0.058 Medical_History_8\n"
     ]
    }
   ],
   "source": [
    "for c in train.columns:\n",
    "    c1, c2 = corr(train[c], train.Response), corr(train[c]**3, train.Response)\n",
    "    if abs(c2) > 1.05* abs(c1):\n",
    "        print \"%.3f   %.3f\" % (c1, c2), c"
   ]
  },
  {
   "cell_type": "code",
   "execution_count": 7,
   "metadata": {
    "collapsed": false
   },
   "outputs": [
    {
     "name": "stdout",
     "output_type": "stream",
     "text": [
      "0.012   -0.014 Employment_Info_4\n",
      "0.167   -0.178 Family_Hist_2\n",
      "0.157   -0.184 Family_Hist_4\n",
      "0.000   -0.001 Id\n",
      "-0.000   -0.005 Insurance_History_4\n",
      "-0.006   -0.007 Insurance_History_7\n",
      "0.007   0.010 Insurance_History_8\n",
      "-0.006   -0.008 Insurance_History_9\n",
      "0.036   0.047 Medical_History_11\n",
      "-0.001   -0.001 Medical_History_25\n",
      "-0.046   -0.061 Medical_History_8\n",
      "-0.022   0.029 Product_Info_2\n"
     ]
    }
   ],
   "source": [
    "for c in train.columns:\n",
    "    c1, c2 = corr(train[c], train.Response), corr(train[c]**4, train.Response)\n",
    "    if abs(c2) > 1.05* abs(c1):\n",
    "        print \"%.3f   %.3f\" % (c1, c2), c"
   ]
  },
  {
   "cell_type": "code",
   "execution_count": null,
   "metadata": {
    "collapsed": false
   },
   "outputs": [],
   "source": [
    "corr(train.BMI, train.Response), corr(train.Ins_Age, train.Response), corr(train.BMI * train.Ins_Age, train.Response)"
   ]
  },
  {
   "cell_type": "code",
   "execution_count": null,
   "metadata": {
    "collapsed": true
   },
   "outputs": [],
   "source": [
    "import pandas as pd\n",
    "train = pd.read_csv(\"train.csv\")\n",
    "test = pd.read_csv(\"test.csv\")"
   ]
  },
  {
   "cell_type": "code",
   "execution_count": null,
   "metadata": {
    "collapsed": false
   },
   "outputs": [],
   "source": [
    "set(train.Insurance_History_2)"
   ]
  },
  {
   "cell_type": "code",
   "execution_count": null,
   "metadata": {
    "collapsed": false
   },
   "outputs": [],
   "source": [
    "tbmi = train.BMI"
   ]
  },
  {
   "cell_type": "code",
   "execution_count": null,
   "metadata": {
    "collapsed": false
   },
   "outputs": [],
   "source": [
    "pd.options.display.max_columns = 999\n",
    "pd.options.display.max_rows = 40\n",
    "train['NaN_count'] = train.isnull().sum(axis=1)\n",
    "train[pd.isnull(train.Medical_History_1)]"
   ]
  },
  {
   "cell_type": "code",
   "execution_count": 17,
   "metadata": {
    "collapsed": false
   },
   "outputs": [
    {
     "data": {
      "text/plain": [
       "-0.063691052804812076"
      ]
     },
     "execution_count": 17,
     "metadata": {},
     "output_type": "execute_result"
    }
   ],
   "source": [
    "corr(train.Medical_History_8 ** 8, train.Response)"
   ]
  },
  {
   "cell_type": "code",
   "execution_count": 19,
   "metadata": {
    "collapsed": false
   },
   "outputs": [
    {
     "data": {
      "text/plain": [
       "{1, 2, 3}"
      ]
     },
     "execution_count": 19,
     "metadata": {},
     "output_type": "execute_result"
    }
   ],
   "source": [
    "set(train.Medical_History_8)"
   ]
  },
  {
   "cell_type": "code",
   "execution_count": 26,
   "metadata": {
    "collapsed": false
   },
   "outputs": [],
   "source": [
    "mk = [col for col in train.columns if col.startswith(\"Medical_K\")]"
   ]
  },
  {
   "cell_type": "code",
   "execution_count": 22,
   "metadata": {
    "collapsed": false
   },
   "outputs": [
    {
     "data": {
      "text/plain": [
       "{0, 1}"
      ]
     },
     "execution_count": 22,
     "metadata": {},
     "output_type": "execute_result"
    }
   ],
   "source": [
    "set(train.Medical_Keyword_21)"
   ]
  },
  {
   "cell_type": "code",
   "execution_count": 30,
   "metadata": {
    "collapsed": false
   },
   "outputs": [
    {
     "data": {
      "text/plain": [
       "0    -1.000000\n",
       "1     0.188406\n",
       "2     0.304348\n",
       "3     0.420290\n",
       "4     0.463768\n",
       "5    -1.000000\n",
       "6     0.594203\n",
       "7    -1.000000\n",
       "8    -1.000000\n",
       "9     0.797101\n",
       "10   -1.000000\n",
       "11    0.405797\n",
       "12   -1.000000\n",
       "13    0.420290\n",
       "14   -1.000000\n",
       "...\n",
       "59366   -1.000000\n",
       "59367   -1.000000\n",
       "59368   -1.000000\n",
       "59369   -1.000000\n",
       "59370   -1.000000\n",
       "59371   -1.000000\n",
       "59372    0.681159\n",
       "59373    0.275362\n",
       "59374    0.405797\n",
       "59375   -1.000000\n",
       "59376    0.217391\n",
       "59377    0.565217\n",
       "59378    0.173913\n",
       "59379   -1.000000\n",
       "59380   -1.000000\n",
       "Name: Family_Hist_2, Length: 59381, dtype: float64"
      ]
     },
     "execution_count": 30,
     "metadata": {},
     "output_type": "execute_result"
    }
   ],
   "source": [
    "train.Family_Hist_2"
   ]
  },
  {
   "cell_type": "code",
   "execution_count": null,
   "metadata": {
    "collapsed": true
   },
   "outputs": [],
   "source": []
  }
 ],
 "metadata": {
  "kernelspec": {
   "display_name": "Python 2",
   "language": "python",
   "name": "python2"
  },
  "language_info": {
   "codemirror_mode": {
    "name": "ipython",
    "version": 2
   },
   "file_extension": ".py",
   "mimetype": "text/x-python",
   "name": "python",
   "nbconvert_exporter": "python",
   "pygments_lexer": "ipython2",
   "version": "2.7.6"
  }
 },
 "nbformat": 4,
 "nbformat_minor": 0
}
