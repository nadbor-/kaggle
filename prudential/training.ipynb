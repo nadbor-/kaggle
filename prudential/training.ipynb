{
 "cells": [
  {
   "cell_type": "code",
   "execution_count": 7,
   "metadata": {
    "collapsed": true
   },
   "outputs": [],
   "source": [
    "import feature_engineering as fe\n",
    "import train_utils as tu\n",
    "from persistent_cache import memo, PersistentDict as Perd\n",
    "from sklearn.cross_validation import StratifiedKFold, KFold\n",
    "import numpy as np"
   ]
  },
  {
   "cell_type": "code",
   "execution_count": 24,
   "metadata": {
    "collapsed": false
   },
   "outputs": [],
   "source": [
    "X_train, X_test = fe.oh_med_cut()\n",
    "y = fe.get_y()"
   ]
  },
  {
   "cell_type": "code",
   "execution_count": 35,
   "metadata": {
    "collapsed": false
   },
   "outputs": [
    {
     "name": "stdout",
     "output_type": "stream",
     "text": [
      "(79146, 30)\n"
     ]
    }
   ],
   "source": [
    "def corr(a, b):\n",
    "    return np.corrcoef(a, b)[0][1]\n",
    "#def sqr_corr(X_train, X_test, y, threshold):\n",
    "\n",
    "threshold = 0.12\n",
    "corrs = []\n",
    "for i in range(X_train.shape[1]):\n",
    "    corrs.append(corr(X_train[:, i], y))\n",
    "gooduns = [i for i, c in enumerate(corrs) if abs(c) > threshold]\n",
    "rest = [i for i, c in enumerate(corrs) if abs(c) <= threshold]\n",
    "\n",
    "tot = np.vstack([X_train, X_test])\n",
    "good_feats = tot[:, gooduns]\n",
    "print good_feats.shape\n",
    "meh_feats = tot[:, rest]\n",
    "poly_feats = PolynomialFeatures(2).fit_transform(good_feats)\n",
    "assert set(poly_feats[:, 0]) == {1}\n",
    "new_tot = np.hstack([poly_feats, meh_feats[:, 1:]])"
   ]
  },
  {
   "cell_type": "code",
   "execution_count": 33,
   "metadata": {
    "collapsed": false
   },
   "outputs": [
    {
     "data": {
      "text/plain": [
       "((79146, 484), (79146, 331))"
      ]
     },
     "execution_count": 33,
     "metadata": {},
     "output_type": "execute_result"
    }
   ],
   "source": [
    "def add_poly_feats(X_train, X_test, y, threshold):\n",
    "    corrs = []\n",
    "    for i in range(X_train.shape[1]):\n",
    "        corrs.append(corr(X_train[:, i], y))\n",
    "    gooduns = [i for i, c in enumerate(corrs) if abs(c) > threshold]\n",
    "    rest = [i for i, c in enumerate(corrs) if abs(c) <= threshold]\n",
    "    tot = np.vstack([X_train, X_test])\n",
    "    good_feats = tot[:, gooduns]\n",
    "    meh_feats = tot[:, rest]\n",
    "    poly_feats = PolynomialFeatures(2).fit_transform(good_feats)\n",
    "    assert set(poly_feats[:, 0]) == {1}\n",
    "    new_tot = np.hstack([poly_feats, meh_feats[:, 1:]])\n",
    "    n = len(y)\n",
    "    return new_tot[:n, :], new_tot[n:, :]"
   ]
  },
  {
   "cell_type": "code",
   "execution_count": 36,
   "metadata": {
    "collapsed": false
   },
   "outputs": [
    {
     "data": {
      "text/plain": [
       "((79146, 796), (79146, 331))"
      ]
     },
     "execution_count": 36,
     "metadata": {},
     "output_type": "execute_result"
    }
   ],
   "source": [
    "new_tot.shape, tot.shape"
   ]
  },
  {
   "cell_type": "code",
   "execution_count": 13,
   "metadata": {
    "collapsed": true
   },
   "outputs": [],
   "source": [
    "poly = PolynomialFeatures(2)"
   ]
  },
  {
   "cell_type": "code",
   "execution_count": 15,
   "metadata": {
    "collapsed": false
   },
   "outputs": [
    {
     "data": {
      "text/plain": [
       "array([[ 1,  7,  1, 49,  7,  1],\n",
       "       [ 1,  2,  3,  4,  6,  9],\n",
       "       [ 1,  4,  5, 16, 20, 25]])"
      ]
     },
     "execution_count": 15,
     "metadata": {},
     "output_type": "execute_result"
    }
   ],
   "source": [
    "poly.fit_transform(np.array([[7,1],[2,3],[4,5]]))"
   ]
  },
  {
   "cell_type": "code",
   "execution_count": 22,
   "metadata": {
    "collapsed": true
   },
   "outputs": [],
   "source": [
    "x, xx = fe.nan_count()"
   ]
  },
  {
   "cell_type": "code",
   "execution_count": 23,
   "metadata": {
    "collapsed": false
   },
   "outputs": [
    {
     "data": {
      "text/plain": [
       "0.098648219879977239"
      ]
     },
     "execution_count": 23,
     "metadata": {},
     "output_type": "execute_result"
    }
   ],
   "source": [
    "corr(x.ravel(), y)"
   ]
  },
  {
   "cell_type": "code",
   "execution_count": null,
   "metadata": {
    "collapsed": true
   },
   "outputs": [],
   "source": []
  }
 ],
 "metadata": {
  "kernelspec": {
   "display_name": "Python 2",
   "language": "python",
   "name": "python2"
  },
  "language_info": {
   "codemirror_mode": {
    "name": "ipython",
    "version": 2
   },
   "file_extension": ".py",
   "mimetype": "text/x-python",
   "name": "python",
   "nbconvert_exporter": "python",
   "pygments_lexer": "ipython2",
   "version": "2.7.6"
  }
 },
 "nbformat": 4,
 "nbformat_minor": 0
}
