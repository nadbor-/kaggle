{
 "cells": [
  {
   "cell_type": "code",
   "execution_count": 53,
   "metadata": {
    "collapsed": false
   },
   "outputs": [],
   "source": [
    "import pandas as pd\n",
    "import numpy as np\n",
    "from sklearn.cross_validation import StratifiedKFold, KFold\n",
    "from sklearn.metrics import accuracy_score\n",
    "from sklearn.linear_model import LogisticRegression, LinearRegression, SGDClassifier\n",
    "from sklearn.ensemble import RandomForestClassifier, ExtraTreesClassifier\n",
    "from sklearn.svm import SVC\n",
    "from xgboost.sklearn import XGBClassifier\n",
    "from sklearn.preprocessing import LabelEncoder\n",
    "from joblib import Memory\n",
    "\n",
    "from ml_metrics import quadratic_weighted_kappa\n",
    "\n",
    "def eval_wrapper(yhat, y):  \n",
    "    y = np.array(y)\n",
    "    y = y.astype(int)\n",
    "    yhat = np.array(yhat)\n",
    "    yhat = np.clip(np.round(yhat), np.min(y), np.max(y)).astype(int)   \n",
    "    return quadratic_weighted_kappa(yhat, y)"
   ]
  },
  {
   "cell_type": "code",
   "execution_count": 2,
   "metadata": {
    "collapsed": false
   },
   "outputs": [],
   "source": [
    "train = pd.read_csv(\"train.csv\")\n",
    "test = pd.read_csv(\"test.csv\")\n",
    "\n",
    "encoder = LabelEncoder()\n",
    "train['Product_Info_2'] = encoder.fit_transform(train['Product_Info_2'])\n",
    "test['Product_Info_2'] = encoder.fit_transform(test['Product_Info_2'])\n",
    "\n",
    "train.fillna(train.median(), inplace=True)\n",
    "test.fillna(test.median(), inplace=True);"
   ]
  },
  {
   "cell_type": "code",
   "execution_count": 3,
   "metadata": {
    "collapsed": false
   },
   "outputs": [],
   "source": [
    "X = np.array(train[test.columns[1:]])\n",
    "y = train.Response\n",
    "X_actual_test = np.array(test[test.columns[1:]])"
   ]
  },
  {
   "cell_type": "code",
   "execution_count": 4,
   "metadata": {
    "collapsed": true
   },
   "outputs": [],
   "source": [
    "train_test_folds = list(StratifiedKFold(y, n_folds=6, random_state=0))"
   ]
  },
  {
   "cell_type": "code",
   "execution_count": 49,
   "metadata": {
    "collapsed": false
   },
   "outputs": [],
   "source": [
    "train_cache = Memory(cachedir=\"cache/train\", verbose=0)\n",
    "test_cache = Memory(cachedir=\"cache/test\", verbose=0)\n",
    "train_p_proba = Memory(cachedir=\"cache/train_pb\", verbose=0)\n",
    "\n",
    "@train_cache.cache\n",
    "def train_pred_pb(model):\n",
    "    ind2pred = {}\n",
    "    for train, test in train_test_folds:\n",
    "        model.fit(X[train], y[train])\n",
    "        preds = model.predict_proba(X[test])\n",
    "        for i, p in zip(test, preds):\n",
    "            ind2pred[i] = p\n",
    "    \n",
    "    return np.array([ind2pred[i] for i in range(len(y))])\n",
    "\n",
    "\n",
    "@train_cache.cache\n",
    "def train_predictions(model):\n",
    "    ind2pred = {}\n",
    "    for train, test in train_test_folds:\n",
    "        model.fit(X[train], y[train])\n",
    "        preds = model.predict(X[test])\n",
    "        for i, p in zip(test, preds):\n",
    "            ind2pred[i] = p\n",
    "    \n",
    "    return np.array([ind2pred[i] for i in range(len(y))])\n",
    "\n",
    "@test_cache.cache\n",
    "def test_predictions(model):\n",
    "    model.fit(X, y)\n",
    "    return model.predict(X_actual_test)\n",
    "\n",
    "\n",
    "stacker_train_cache = Memory(cachedir=\"cache/stacker_train\", verbose=0)\n",
    "stacker_test_cache = Memory(cachedir=\"cache/stacker_test\", verbose=0)\n",
    "\n",
    "@stacker_train_cache.cache\n",
    "def stacker_train_predictions(stacker, base_clfs):\n",
    "    n = len(y)\n",
    "    stacked_X = np.hstack([X] + [train_predictions(clf).reshape(n, 1) for clf in base_clfs])\n",
    "    \n",
    "    ind2pred = {}\n",
    "    for train, test in train_test_folds:\n",
    "        stacker.fit(stacked_X[train], y[train])\n",
    "        preds = stacker.predict(stacked_X[test])\n",
    "        for i, p in zip(test, preds):\n",
    "            ind2pred[i] = p\n",
    "    \n",
    "    return np.array([ind2pred[i] for i in range(len(y))])\n",
    "\n",
    "@stacker_test_cache.cache\n",
    "def stacker_test_predictions(stacker, base_clfs):\n",
    "    n = len(y)\n",
    "    stacked_X = np.hstack([X] + [train_predictions(clf).reshape(n, 1) for clf in base_clfs])\n",
    "    stacker.fit(stacked_X, y)\n",
    "    return stacker.predict(X_actual_test)"
   ]
  },
  {
   "cell_type": "code",
   "execution_count": 50,
   "metadata": {
    "collapsed": false
   },
   "outputs": [],
   "source": [
    "def benchmark(model):\n",
    "    pred = train_predictions(model)\n",
    "    return eval_wrapper(pred, y)\n",
    "\n",
    "def benchmark_stacker(model, base_clfs):\n",
    "    pred = stacker_train_predictions(model, base_clfs)\n",
    "    return eval_wrapper(pred, y)"
   ]
  },
  {
   "cell_type": "code",
   "execution_count": 9,
   "metadata": {
    "collapsed": false
   },
   "outputs": [
    {
     "name": "stdout",
     "output_type": "stream",
     "text": [
      "CPU times: user 53.6 ms, sys: 7.99 ms, total: 61.6 ms\n",
      "Wall time: 60.2 ms\n"
     ]
    },
    {
     "data": {
      "text/plain": [
       "0.5314921540324228"
      ]
     },
     "execution_count": 9,
     "metadata": {},
     "output_type": "execute_result"
    }
   ],
   "source": [
    "%%time\n",
    "benchmark(RandomForestClassifier(n_estimators=200, criterion='gini'))"
   ]
  },
  {
   "cell_type": "code",
   "execution_count": 10,
   "metadata": {
    "collapsed": false
   },
   "outputs": [
    {
     "name": "stdout",
     "output_type": "stream",
     "text": [
      "CPU times: user 4min 54s, sys: 172 ms, total: 4min 54s\n",
      "Wall time: 4min 54s\n"
     ]
    },
    {
     "data": {
      "text/plain": [
       "0.5217668847898264"
      ]
     },
     "execution_count": 10,
     "metadata": {},
     "output_type": "execute_result"
    }
   ],
   "source": [
    "%%time\n",
    "benchmark(RandomForestClassifier(n_estimators=200, criterion='entropy'))"
   ]
  },
  {
   "cell_type": "code",
   "execution_count": null,
   "metadata": {
    "collapsed": true
   },
   "outputs": [],
   "source": [
    "%%time\n",
    "benchmark(RandomForestClassifier(n_estimators=400, criterion='gini'))"
   ]
  },
  {
   "cell_type": "code",
   "execution_count": null,
   "metadata": {
    "collapsed": true
   },
   "outputs": [],
   "source": [
    "%%time\n",
    "benchmark(RandomForestClassifier(n_estimators=400, criterion='entropy'))"
   ]
  },
  {
   "cell_type": "code",
   "execution_count": null,
   "metadata": {
    "collapsed": true
   },
   "outputs": [],
   "source": []
  },
  {
   "cell_type": "code",
   "execution_count": null,
   "metadata": {
    "collapsed": true
   },
   "outputs": [],
   "source": []
  },
  {
   "cell_type": "code",
   "execution_count": 52,
   "metadata": {
    "collapsed": false
   },
   "outputs": [
    {
     "name": "stdout",
     "output_type": "stream",
     "text": [
      "CPU times: user 61.1 ms, sys: 13 µs, total: 61.1 ms\n",
      "Wall time: 394 ms\n"
     ]
    },
    {
     "data": {
      "text/plain": [
       "0.5450288528827849"
      ]
     },
     "execution_count": 52,
     "metadata": {},
     "output_type": "execute_result"
    }
   ],
   "source": [
    "%%time\n",
    "benchmark(XGBClassifier(objective=\"reg:linear\", min_child_weight=80, subsample=0.85, colsample_bytree=0.30, silent=1, max_depth=9))"
   ]
  },
  {
   "cell_type": "code",
   "execution_count": null,
   "metadata": {
    "collapsed": true
   },
   "outputs": [],
   "source": [
    "%%time\n",
    "benchmark(SVC())"
   ]
  },
  {
   "cell_type": "code",
   "execution_count": 44,
   "metadata": {
    "collapsed": false
   },
   "outputs": [
    {
     "name": "stdout",
     "output_type": "stream",
     "text": [
      "Wall time: 7min 11s\n"
     ]
    },
    {
     "data": {
      "text/plain": [
       "0.50381380405400522"
      ]
     },
     "execution_count": 44,
     "metadata": {},
     "output_type": "execute_result"
    }
   ],
   "source": [
    "%%time\n",
    "benchmark(LogisticRegression())"
   ]
  },
  {
   "cell_type": "code",
   "execution_count": 51,
   "metadata": {
    "collapsed": false
   },
   "outputs": [
    {
     "name": "stdout",
     "output_type": "stream",
     "text": [
      "CPU times: user 3.18 s, sys: 1.91 s, total: 5.09 s\n",
      "Wall time: 3.04 s\n"
     ]
    },
    {
     "data": {
      "text/plain": [
       "0.203645064116726"
      ]
     },
     "execution_count": 51,
     "metadata": {},
     "output_type": "execute_result"
    }
   ],
   "source": [
    "%%time\n",
    "benchmark_stacker(SGDClassifier(), [RandomForestClassifier(n_estimators=200, criterion='gini')])"
   ]
  },
  {
   "cell_type": "code",
   "execution_count": 11,
   "metadata": {
    "collapsed": true
   },
   "outputs": [],
   "source": [
    "benchmark_stacker(LogisticRegression(),)"
   ]
  },
  {
   "cell_type": "code",
   "execution_count": 21,
   "metadata": {
    "collapsed": true
   },
   "outputs": [],
   "source": [
    "c = StackedClassifier([RandomForestClassifier()])\n",
    "c1 = StackedClassifier([LogisticRegression()])"
   ]
  },
  {
   "cell_type": "code",
   "execution_count": 14,
   "metadata": {
    "collapsed": true
   },
   "outputs": [],
   "source": [
    "ct = Memory(cachedir=\"cachetest/train\", verbose=0)\n",
    "\n",
    "\n",
    "@ct.cache\n",
    "def kupa(clf):\n",
    "    print clf\n",
    "    return input()"
   ]
  },
  {
   "cell_type": "code",
   "execution_count": 24,
   "metadata": {
    "collapsed": false
   },
   "outputs": [
    {
     "data": {
      "text/plain": [
       "'dfsg'"
      ]
     },
     "execution_count": 24,
     "metadata": {},
     "output_type": "execute_result"
    }
   ],
   "source": [
    "kupa(c)"
   ]
  },
  {
   "cell_type": "code",
   "execution_count": 28,
   "metadata": {
    "collapsed": false
   },
   "outputs": [],
   "source": [
    "small_x = X[:100]\n",
    "small_y = y[:100]"
   ]
  },
  {
   "cell_type": "code",
   "execution_count": 27,
   "metadata": {
    "collapsed": false
   },
   "outputs": [
    {
     "data": {
      "text/plain": [
       "(100, 126)"
      ]
     },
     "execution_count": 27,
     "metadata": {},
     "output_type": "execute_result"
    }
   ],
   "source": [
    "small_x.shape"
   ]
  },
  {
   "cell_type": "code",
   "execution_count": 29,
   "metadata": {
    "collapsed": false
   },
   "outputs": [
    {
     "data": {
      "text/plain": [
       "RandomForestClassifier(bootstrap=True, compute_importances=None,\n",
       "            criterion='gini', max_depth=None, max_features='auto',\n",
       "            max_leaf_nodes=None, min_density=None, min_samples_leaf=1,\n",
       "            min_samples_split=2, n_estimators=10, n_jobs=1,\n",
       "            oob_score=False, random_state=None, verbose=0)"
      ]
     },
     "execution_count": 29,
     "metadata": {},
     "output_type": "execute_result"
    }
   ],
   "source": [
    "clf = RandomForestClassifier()\n",
    "clf.fit(small_x, small_y)"
   ]
  },
  {
   "cell_type": "code",
   "execution_count": 40,
   "metadata": {
    "collapsed": false
   },
   "outputs": [],
   "source": [
    "stacked = np.hstack([small_x, clf.predict(small_x).reshape(100, 1)])"
   ]
  },
  {
   "cell_type": "code",
   "execution_count": 41,
   "metadata": {
    "collapsed": false
   },
   "outputs": [
    {
     "data": {
      "text/plain": [
       "(100, 127)"
      ]
     },
     "execution_count": 41,
     "metadata": {},
     "output_type": "execute_result"
    }
   ],
   "source": [
    "stacked.shape"
   ]
  },
  {
   "cell_type": "code",
   "execution_count": 39,
   "metadata": {
    "collapsed": false
   },
   "outputs": [
    {
     "data": {
      "text/plain": [
       "array([[8],\n",
       "       [8],\n",
       "       [8],\n",
       "       [8],\n",
       "       [8],\n",
       "       [8],\n",
       "       [8],\n",
       "       [1],\n",
       "       [8],\n",
       "       [1],\n",
       "       [6],\n",
       "       [2],\n",
       "       [7],\n",
       "       [3],\n",
       "       [8],\n",
       "       [5],\n",
       "       [8],\n",
       "       [7],\n",
       "       [2],\n",
       "       [8],\n",
       "       [8],\n",
       "       [5],\n",
       "       [5],\n",
       "       [8],\n",
       "       [6],\n",
       "       [8],\n",
       "       [6],\n",
       "       [8],\n",
       "       [7],\n",
       "       [6],\n",
       "       [4],\n",
       "       [7],\n",
       "       [7],\n",
       "       [5],\n",
       "       [2],\n",
       "       [7],\n",
       "       [8],\n",
       "       [1],\n",
       "       [1],\n",
       "       [6],\n",
       "       [6],\n",
       "       [2],\n",
       "       [5],\n",
       "       [7],\n",
       "       [2],\n",
       "       [7],\n",
       "       [6],\n",
       "       [8],\n",
       "       [5],\n",
       "       [2],\n",
       "       [2],\n",
       "       [7],\n",
       "       [6],\n",
       "       [4],\n",
       "       [7],\n",
       "       [5],\n",
       "       [2],\n",
       "       [7],\n",
       "       [8],\n",
       "       [6],\n",
       "       [8],\n",
       "       [7],\n",
       "       [3],\n",
       "       [5],\n",
       "       [8],\n",
       "       [6],\n",
       "       [8],\n",
       "       [7],\n",
       "       [7],\n",
       "       [6],\n",
       "       [6],\n",
       "       [8],\n",
       "       [5],\n",
       "       [7],\n",
       "       [6],\n",
       "       [7],\n",
       "       [6],\n",
       "       [6],\n",
       "       [6],\n",
       "       [5],\n",
       "       [4],\n",
       "       [1],\n",
       "       [7],\n",
       "       [7],\n",
       "       [1],\n",
       "       [8],\n",
       "       [8],\n",
       "       [2],\n",
       "       [6],\n",
       "       [8],\n",
       "       [8],\n",
       "       [5],\n",
       "       [1],\n",
       "       [8],\n",
       "       [6],\n",
       "       [6],\n",
       "       [6],\n",
       "       [1],\n",
       "       [8],\n",
       "       [8]])"
      ]
     },
     "execution_count": 39,
     "metadata": {},
     "output_type": "execute_result"
    }
   ],
   "source": [
    "clf.predict(small_x).reshape(100, 1)"
   ]
  },
  {
   "cell_type": "code",
   "execution_count": 42,
   "metadata": {
    "collapsed": false
   },
   "outputs": [
    {
     "data": {
      "text/plain": [
       "array([[ 0. ,  0. ,  0. ,  0.1,  0. ,  0. ,  0. ,  0.9],\n",
       "       [ 0. ,  0. ,  0. ,  0.4,  0.1,  0. ,  0. ,  0.5],\n",
       "       [ 0. ,  0.1,  0. ,  0. ,  0. ,  0.1,  0.1,  0.7],\n",
       "       [ 0. ,  0. ,  0. ,  0. ,  0.1,  0. ,  0.1,  0.8],\n",
       "       [ 0. ,  0. ,  0. ,  0.1,  0. ,  0.1,  0.1,  0.7],\n",
       "       [ 0. ,  0. ,  0. ,  0. ,  0. ,  0.1,  0.1,  0.8],\n",
       "       [ 0. ,  0. ,  0. ,  0. ,  0.1,  0.1,  0. ,  0.8],\n",
       "       [ 0.8,  0. ,  0. ,  0. ,  0.1,  0. ,  0.1,  0. ],\n",
       "       [ 0. ,  0. ,  0. ,  0. ,  0. ,  0. ,  0. ,  1. ],\n",
       "       [ 0.5,  0. ,  0. ,  0. ,  0.1,  0.1,  0.2,  0.1],\n",
       "       [ 0.1,  0. ,  0. ,  0. ,  0. ,  0.7,  0.1,  0.1],\n",
       "       [ 0. ,  0.7,  0. ,  0. ,  0.1,  0. ,  0.1,  0.1],\n",
       "       [ 0. ,  0. ,  0. ,  0. ,  0. ,  0. ,  0.7,  0.3],\n",
       "       [ 0.2,  0. ,  0.6,  0.1,  0. ,  0.1,  0. ,  0. ],\n",
       "       [ 0. ,  0. ,  0. ,  0. ,  0. ,  0. ,  0. ,  1. ],\n",
       "       [ 0. ,  0. ,  0. ,  0. ,  0.7,  0.2,  0. ,  0.1],\n",
       "       [ 0. ,  0. ,  0. ,  0. ,  0. ,  0. ,  0. ,  1. ],\n",
       "       [ 0. ,  0. ,  0. ,  0. ,  0. ,  0. ,  0.7,  0.3],\n",
       "       [ 0. ,  0.7,  0. ,  0.1,  0. ,  0. ,  0.1,  0.1],\n",
       "       [ 0. ,  0. ,  0. ,  0. ,  0.1,  0.1,  0.1,  0.7],\n",
       "       [ 0. ,  0.1,  0. ,  0. ,  0.1,  0.1,  0. ,  0.7],\n",
       "       [ 0. ,  0. ,  0. ,  0. ,  0.8,  0.2,  0. ,  0. ],\n",
       "       [ 0.2,  0. ,  0. ,  0. ,  0.8,  0. ,  0. ,  0. ],\n",
       "       [ 0. ,  0. ,  0. ,  0. ,  0. ,  0. ,  0.1,  0.9],\n",
       "       [ 0. ,  0. ,  0.1,  0. ,  0.1,  0.7,  0.1,  0. ],\n",
       "       [ 0. ,  0. ,  0. ,  0. ,  0. ,  0.2,  0. ,  0.8],\n",
       "       [ 0. ,  0. ,  0. ,  0. ,  0.1,  0.8,  0. ,  0.1],\n",
       "       [ 0. ,  0. ,  0. ,  0.1,  0. ,  0. ,  0. ,  0.9],\n",
       "       [ 0. ,  0. ,  0. ,  0. ,  0.2,  0.1,  0.7,  0. ],\n",
       "       [ 0. ,  0. ,  0. ,  0. ,  0.1,  0.6,  0.1,  0.2],\n",
       "       [ 0. ,  0. ,  0. ,  0.8,  0. ,  0.1,  0. ,  0.1],\n",
       "       [ 0.1,  0. ,  0. ,  0. ,  0. ,  0. ,  0.7,  0.2],\n",
       "       [ 0. ,  0. ,  0. ,  0. ,  0.1,  0. ,  0.7,  0.2],\n",
       "       [ 0. ,  0.1,  0. ,  0. ,  0.7,  0. ,  0.1,  0.1],\n",
       "       [ 0.1,  0.7,  0. ,  0. ,  0. ,  0.1,  0. ,  0.1],\n",
       "       [ 0. ,  0. ,  0. ,  0.1,  0. ,  0. ,  0.7,  0.2],\n",
       "       [ 0. ,  0. ,  0. ,  0.1,  0. ,  0. ,  0. ,  0.9],\n",
       "       [ 0.5,  0. ,  0. ,  0. ,  0.2,  0.2,  0.1,  0. ],\n",
       "       [ 0.8,  0. ,  0. ,  0. ,  0. ,  0. ,  0.2,  0. ],\n",
       "       [ 0.1,  0. ,  0. ,  0.1,  0. ,  0.7,  0.1,  0. ],\n",
       "       [ 0. ,  0. ,  0. ,  0. ,  0. ,  0.7,  0. ,  0.3],\n",
       "       [ 0. ,  0.7,  0. ,  0. ,  0. ,  0. ,  0.2,  0.1],\n",
       "       [ 0.1,  0. ,  0. ,  0. ,  0.9,  0. ,  0. ,  0. ],\n",
       "       [ 0.1,  0.1,  0. ,  0. ,  0. ,  0.1,  0.7,  0. ],\n",
       "       [ 0. ,  0.4,  0. ,  0.1,  0. ,  0.1,  0.4,  0. ],\n",
       "       [ 0. ,  0. ,  0. ,  0. ,  0. ,  0. ,  0.9,  0.1],\n",
       "       [ 0. ,  0. ,  0. ,  0. ,  0. ,  0.9,  0.1,  0. ],\n",
       "       [ 0.1,  0. ,  0. ,  0. ,  0. ,  0.1,  0. ,  0.8],\n",
       "       [ 0.1,  0. ,  0. ,  0. ,  0.9,  0. ,  0. ,  0. ],\n",
       "       [ 0. ,  0.6,  0. ,  0. ,  0.1,  0.2,  0.1,  0. ],\n",
       "       [ 0. ,  0.5,  0. ,  0. ,  0.1,  0.2,  0.1,  0.1],\n",
       "       [ 0.1,  0. ,  0. ,  0.1,  0. ,  0. ,  0.7,  0.1],\n",
       "       [ 0. ,  0. ,  0. ,  0. ,  0.1,  0.8,  0.1,  0. ],\n",
       "       [ 0.1,  0. ,  0. ,  0.7,  0. ,  0. ,  0.1,  0.1],\n",
       "       [ 0.1,  0.1,  0. ,  0. ,  0. ,  0.1,  0.7,  0. ],\n",
       "       [ 0.1,  0. ,  0. ,  0. ,  0.9,  0. ,  0. ,  0. ],\n",
       "       [ 0. ,  0.4,  0. ,  0. ,  0.1,  0.2,  0.2,  0.1],\n",
       "       [ 0.1,  0. ,  0. ,  0. ,  0. ,  0.1,  0.7,  0.1],\n",
       "       [ 0. ,  0.1,  0. ,  0. ,  0.1,  0.1,  0.2,  0.5],\n",
       "       [ 0.1,  0. ,  0. ,  0. ,  0.1,  0.7,  0.1,  0. ],\n",
       "       [ 0. ,  0. ,  0. ,  0. ,  0. ,  0.3,  0. ,  0.7],\n",
       "       [ 0. ,  0.1,  0. ,  0. ,  0. ,  0.2,  0.6,  0.1],\n",
       "       [ 0. ,  0. ,  0.7,  0.1,  0. ,  0. ,  0.2,  0. ],\n",
       "       [ 0. ,  0. ,  0. ,  0. ,  0.7,  0. ,  0. ,  0.3],\n",
       "       [ 0. ,  0.1,  0. ,  0. ,  0. ,  0.1,  0. ,  0.8],\n",
       "       [ 0.1,  0. ,  0. ,  0. ,  0.2,  0.7,  0. ,  0. ],\n",
       "       [ 0. ,  0.1,  0. ,  0.1,  0. ,  0.1,  0. ,  0.7],\n",
       "       [ 0. ,  0. ,  0.1,  0. ,  0. ,  0.2,  0.6,  0.1],\n",
       "       [ 0.1,  0. ,  0. ,  0. ,  0.1,  0.2,  0.5,  0.1],\n",
       "       [ 0.1,  0. ,  0. ,  0. ,  0.1,  0.7,  0. ,  0.1],\n",
       "       [ 0. ,  0. ,  0. ,  0. ,  0. ,  1. ,  0. ,  0. ],\n",
       "       [ 0. ,  0. ,  0. ,  0. ,  0. ,  0. ,  0. ,  1. ],\n",
       "       [ 0. ,  0.1,  0. ,  0. ,  0.7,  0. ,  0.1,  0.1],\n",
       "       [ 0. ,  0. ,  0. ,  0. ,  0. ,  0.2,  0.7,  0.1],\n",
       "       [ 0. ,  0. ,  0. ,  0. ,  0.1,  0.9,  0. ,  0. ],\n",
       "       [ 0. ,  0. ,  0. ,  0. ,  0. ,  0.1,  0.7,  0.2],\n",
       "       [ 0. ,  0. ,  0. ,  0. ,  0. ,  0.5,  0. ,  0.5],\n",
       "       [ 0. ,  0.1,  0. ,  0. ,  0.1,  0.8,  0. ,  0. ],\n",
       "       [ 0. ,  0. ,  0. ,  0. ,  0. ,  0.9,  0. ,  0.1],\n",
       "       [ 0. ,  0. ,  0. ,  0. ,  0.5,  0.1,  0. ,  0.4],\n",
       "       [ 0. ,  0.1,  0. ,  0.7,  0. ,  0. ,  0.2,  0. ],\n",
       "       [ 0.5,  0.2,  0.1,  0.2,  0. ,  0. ,  0. ,  0. ],\n",
       "       [ 0. ,  0. ,  0. ,  0. ,  0.1,  0. ,  0.9,  0. ],\n",
       "       [ 0. ,  0. ,  0. ,  0. ,  0.1,  0.1,  0.6,  0.2],\n",
       "       [ 0.9,  0. ,  0. ,  0. ,  0. ,  0.1,  0. ,  0. ],\n",
       "       [ 0. ,  0. ,  0. ,  0. ,  0. ,  0. ,  0.1,  0.9],\n",
       "       [ 0. ,  0.2,  0. ,  0. ,  0.1,  0.1,  0.1,  0.5],\n",
       "       [ 0.2,  0.6,  0. ,  0. ,  0.1,  0. ,  0.1,  0. ],\n",
       "       [ 0. ,  0. ,  0. ,  0. ,  0. ,  0.7,  0.1,  0.2],\n",
       "       [ 0. ,  0. ,  0. ,  0. ,  0. ,  0. ,  0. ,  1. ],\n",
       "       [ 0. ,  0. ,  0. ,  0. ,  0.1,  0.2,  0.1,  0.6],\n",
       "       [ 0.1,  0. ,  0. ,  0. ,  0.9,  0. ,  0. ,  0. ],\n",
       "       [ 0.7,  0. ,  0.1,  0. ,  0. ,  0.1,  0.1,  0. ],\n",
       "       [ 0. ,  0.1,  0. ,  0. ,  0. ,  0. ,  0. ,  0.9],\n",
       "       [ 0.1,  0.1,  0. ,  0. ,  0.1,  0.6,  0.1,  0. ],\n",
       "       [ 0.2,  0.1,  0. ,  0. ,  0.1,  0.4,  0.1,  0.1],\n",
       "       [ 0. ,  0. ,  0. ,  0. ,  0. ,  0.8,  0.1,  0.1],\n",
       "       [ 0.9,  0. ,  0. ,  0. ,  0. ,  0.1,  0. ,  0. ],\n",
       "       [ 0. ,  0. ,  0. ,  0. ,  0. ,  0. ,  0.1,  0.9],\n",
       "       [ 0. ,  0. ,  0. ,  0. ,  0.1,  0. ,  0. ,  0.9]])"
      ]
     },
     "execution_count": 42,
     "metadata": {},
     "output_type": "execute_result"
    }
   ],
   "source": [
    "clf.predict_proba(small_x)"
   ]
  },
  {
   "cell_type": "code",
   "execution_count": null,
   "metadata": {
    "collapsed": true
   },
   "outputs": [],
   "source": []
  }
 ],
 "metadata": {
  "kernelspec": {
   "display_name": "Python 2",
   "language": "python",
   "name": "python2"
  },
  "language_info": {
   "codemirror_mode": {
    "name": "ipython",
    "version": 2
   },
   "file_extension": ".py",
   "mimetype": "text/x-python",
   "name": "python",
   "nbconvert_exporter": "python",
   "pygments_lexer": "ipython2",
   "version": "2.7.6"
  }
 },
 "nbformat": 4,
 "nbformat_minor": 0
}
