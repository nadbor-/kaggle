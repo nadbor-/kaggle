{
 "cells": [
  {
   "cell_type": "code",
   "execution_count": null,
   "metadata": {
    "collapsed": true
   },
   "outputs": [],
   "source": [
    "import feature_engineering as fe\n",
    "import train_utils as tu\n",
    "from persistent_cache import memo, PersistentDict as Perd\n",
    "from sklearn.cross_validation import StratifiedKFold, KFold"
   ]
  },
  {
   "cell_type": "code",
   "execution_count": 14,
   "metadata": {
    "collapsed": false
   },
   "outputs": [],
   "source": [
    "import numpy as np\n",
    "from sklearn.cross_validation import StratifiedKFold, KFold\n",
    "from train_utils import info, linreg, xgbr\n",
    "from train_utils import benchmark_model_optimized\n",
    "from joblib import Memory\n",
    "\n",
    "def mini_train_predictions(model, X, y, train_test_folds):\n",
    "    ind2pred = {}\n",
    "    for i, (train, test) in enumerate(train_test_folds):\n",
    "        info((\"fitting MINIfold   \"+str(i+1)+ str(model)[:100]))\n",
    "        model.fit(X[train], y[train])\n",
    "        info((\"MINIfold fitted    \"+str(i+1)+  str(model)[:100]))\n",
    "        preds = model.predict(X[test])\n",
    "        for i, p in zip(test, preds):\n",
    "            ind2pred[i] = p\n",
    "    \n",
    "    return np.array([ind2pred[i] for i in range(len(y))])\n",
    "\n",
    "class Stacker(object):\n",
    "    def __init__(self, stacker, base_models, folds=4):\n",
    "        self.folds = folds\n",
    "        self.base_models = sorted(base_models)\n",
    "        self.stacker = stacker\n",
    "        \n",
    "    def fit(self, X, y):\n",
    "        folds = list(StratifiedKFold(y, n_folds=self.folds, random_state=0))\n",
    "        base_preds = [mini_train_predictions(m, X, y, folds) for m in self.base_models]\n",
    "        n = len(y)\n",
    "        XX = np.hstack([X] + [p.reshape(n, 1) for p in base_preds])\n",
    "        print \"fit\", XX.shape\n",
    "        self.stacker.fit(XX, y)\n",
    "        for m in self.base_models:\n",
    "            m.fit(X, y)\n",
    "        return self\n",
    "    \n",
    "    def predict(self, X):\n",
    "        n = X.shape[0]\n",
    "        XX = np.hstack([X] + [m.predict(X).reshape(n, 1) for m in self.base_models])\n",
    "        print \"predict\", XX.shape\n",
    "        return self.stacker.predict(XX)"
   ]
  },
  {
   "cell_type": "code",
   "execution_count": null,
   "metadata": {
    "collapsed": false
   },
   "outputs": [],
   "source": []
  },
  {
   "cell_type": "code",
   "execution_count": 17,
   "metadata": {
    "collapsed": true
   },
   "outputs": [],
   "source": [
    "model = Stacker(linreg(), [linreg()], 2)"
   ]
  },
  {
   "cell_type": "code",
   "execution_count": 18,
   "metadata": {
    "collapsed": false
   },
   "outputs": [
    {
     "name": "stderr",
     "output_type": "stream",
     "text": [
      "INFO:trainlo:optimising offsets 44533\n",
      "INFO:trainlo:done optimising offsets 44533\n",
      "INFO:trainlo:optimising offsets 44536\n",
      "INFO:trainlo:done optimising offsets 44536\n",
      "INFO:trainlo:optimising offsets 44536\n",
      "INFO:trainlo:done optimising offsets 44536\n",
      "INFO:trainlo:optimising offsets 44538\n",
      "INFO:trainlo:done optimising offsets 44538\n",
      "INFO:trainlo:optimized 0.5958   <__main__.Stacker object at 0x7f8002385b10>  basic\n"
     ]
    },
    {
     "data": {
      "text/plain": [
       "0.5958324742368268"
      ]
     },
     "execution_count": 18,
     "metadata": {},
     "output_type": "execute_result"
    }
   ],
   "source": [
    "benchmark_model_optimized(model, \"basic\")"
   ]
  },
  {
   "cell_type": "code",
   "execution_count": null,
   "metadata": {
    "collapsed": true
   },
   "outputs": [],
   "source": [
    "lin = LinearRegression()"
   ]
  },
  {
   "cell_type": "code",
   "execution_count": null,
   "metadata": {
    "collapsed": false
   },
   "outputs": [],
   "source": [
    "X, XX = fe.basic_extractor()"
   ]
  },
  {
   "cell_type": "code",
   "execution_count": null,
   "metadata": {
    "collapsed": false
   },
   "outputs": [],
   "source": [
    "X.shape"
   ]
  },
  {
   "cell_type": "code",
   "execution_count": null,
   "metadata": {
    "collapsed": true
   },
   "outputs": [],
   "source": []
  }
 ],
 "metadata": {
  "kernelspec": {
   "display_name": "Python 2",
   "language": "python",
   "name": "python2"
  },
  "language_info": {
   "codemirror_mode": {
    "name": "ipython",
    "version": 2
   },
   "file_extension": ".py",
   "mimetype": "text/x-python",
   "name": "python",
   "nbconvert_exporter": "python",
   "pygments_lexer": "ipython2",
   "version": "2.7.6"
  }
 },
 "nbformat": 4,
 "nbformat_minor": 0
}
