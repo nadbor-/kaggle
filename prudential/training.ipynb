{
 "cells": [
  {
   "cell_type": "code",
   "execution_count": 1,
   "metadata": {
    "collapsed": false
   },
   "outputs": [
    {
     "name": "stderr",
     "output_type": "stream",
     "text": [
      "INFO:trainlo:train shape = (59381, 538)     test shape = (19765, 538) \n"
     ]
    },
    {
     "name": "stdout",
     "output_type": "stream",
     "text": [
      "Load the data using pandas\n",
      "Eliminate missing values\n"
     ]
    }
   ],
   "source": [
    "import train_utils as tu"
   ]
  },
  {
   "cell_type": "code",
   "execution_count": 6,
   "metadata": {
    "collapsed": false
   },
   "outputs": [],
   "source": [
    "train = tu.train"
   ]
  },
  {
   "cell_type": "code",
   "execution_count": 19,
   "metadata": {
    "collapsed": false
   },
   "outputs": [],
   "source": [
    "import scipy\n",
    "def corr(x, y):\n",
    "    return scipy.stats.pearsonr(x, y)[0]"
   ]
  },
  {
   "cell_type": "code",
   "execution_count": 30,
   "metadata": {
    "collapsed": false
   },
   "outputs": [
    {
     "name": "stdout",
     "output_type": "stream",
     "text": [
      "0.012   -0.015 Employment_Info_4\n",
      "0.167   -0.178 Family_Hist_2\n",
      "0.157   -0.189 Family_Hist_4\n",
      "-0.000   -0.002 Insurance_History_4\n",
      "-0.006   -0.007 Insurance_History_7\n",
      "0.007   0.009 Insurance_History_8\n",
      "-0.006   -0.007 Insurance_History_9\n",
      "0.036   0.042 Medical_History_11\n",
      "-0.046   -0.054 Medical_History_8\n"
     ]
    }
   ],
   "source": [
    "for c in train.columns:\n",
    "    c1, c2 = corr(train[c], train.Response), corr(train[c]**2, train.Response)\n",
    "    if abs(c2) > 1.05* abs(c1):\n",
    "        print \"%.3f   %.3f\" % (c1, c2), c"
   ]
  },
  {
   "cell_type": "code",
   "execution_count": 29,
   "metadata": {
    "collapsed": false
   },
   "outputs": [
    {
     "name": "stdout",
     "output_type": "stream",
     "text": [
      "0.012   0.014 Employment_Info_4\n",
      "-0.000   -0.004 Insurance_History_4\n",
      "-0.006   -0.007 Insurance_History_7\n",
      "0.007   0.009 Insurance_History_8\n",
      "-0.006   -0.007 Insurance_History_9\n",
      "0.036   0.045 Medical_History_11\n",
      "-0.001   -0.001 Medical_History_25\n",
      "-0.046   -0.058 Medical_History_8\n"
     ]
    }
   ],
   "source": [
    "for c in train.columns:\n",
    "    c1, c2 = corr(train[c], train.Response), corr(train[c]**3, train.Response)\n",
    "    if abs(c2) > 1.05* abs(c1):\n",
    "        print \"%.3f   %.3f\" % (c1, c2), c"
   ]
  },
  {
   "cell_type": "code",
   "execution_count": null,
   "metadata": {
    "collapsed": true
   },
   "outputs": [],
   "source": []
  }
 ],
 "metadata": {
  "kernelspec": {
   "display_name": "Python 2",
   "language": "python",
   "name": "python2"
  },
  "language_info": {
   "codemirror_mode": {
    "name": "ipython",
    "version": 2
   },
   "file_extension": ".py",
   "mimetype": "text/x-python",
   "name": "python",
   "nbconvert_exporter": "python",
   "pygments_lexer": "ipython2",
   "version": "2.7.6"
  }
 },
 "nbformat": 4,
 "nbformat_minor": 0
}
